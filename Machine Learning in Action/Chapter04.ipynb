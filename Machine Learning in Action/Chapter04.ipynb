{
 "cells": [
  {
   "cell_type": "code",
   "execution_count": 1,
   "metadata": {},
   "outputs": [],
   "source": [
    "import numpy as np"
   ]
  },
  {
   "cell_type": "code",
   "execution_count": 49,
   "metadata": {},
   "outputs": [],
   "source": [
    "def loadDataSet():\n",
    "    postingList=[['my', 'dog', 'has', 'flea', 'problems', 'help', 'please'], \\\n",
    "                 ['maybe', 'not', 'take', 'him',  'to', 'dog', 'park', 'stupid'], \\\n",
    "                 ['my', 'dalmation', 'is', 'so', 'cute', 'I', 'love', 'him'], \\\n",
    "                 ['stop', 'posting', 'stupid', 'worthless', 'garbage'], \\\n",
    "                 ['mr', 'licks', 'ate', 'my', 'steak', 'how', 'to', 'stop', 'him'], \\\n",
    "                 ['quit', 'buying', 'worthless',' dog', 'food', 'stupid']]\n",
    "    classVec = [0,1,0,1,0,1]\n",
    "    return postingList,classVec"
   ]
  },
  {
   "cell_type": "code",
   "execution_count": 50,
   "metadata": {},
   "outputs": [],
   "source": [
    "def createVocabList(dataSet):\n",
    "    vocabSet = set([])  #create empty set\n",
    "    for document in dataSet:\n",
    "        vocabSet = vocabSet | set(document) #union of the two sets\n",
    "    return list(vocabSet)"
   ]
  },
  {
   "cell_type": "code",
   "execution_count": 51,
   "metadata": {},
   "outputs": [],
   "source": [
    "def setOfWords2Vec(vocabList, inputSet):\n",
    "    returnVec = [0]*len(vocabList)\n",
    "    for word in inputSet:\n",
    "        if word in vocabList:\n",
    "            returnVec[vocabList.index(word)] = 1\n",
    "        else: print(\"the word: %s is not in my Vocabulary!\" % word)\n",
    "    return returnVec"
   ]
  },
  {
   "cell_type": "code",
   "execution_count": 52,
   "metadata": {},
   "outputs": [],
   "source": [
    "def trainNB0(trainMatrix,trainCategory):\n",
    "    numTrainDocs = len(trainMatrix)\n",
    "    numWords = len(trainMatrix[0])\n",
    "    pAbusive = sum(trainCategory)/float(numTrainDocs)\n",
    "    p0Num = np.zeros(numWords); p1Num = np.zeros(numWords)\n",
    "    p0Denom = 0.0; p1Denom = 0.0  \n",
    "    for i in range(numTrainDocs):\n",
    "        if trainCategory[i] == 1:\n",
    "            p1Num += trainMatrix[i]\n",
    "            p1Denom += sum(trainMatrix[i])\n",
    "        else:\n",
    "            p0Num += trainMatrix[i]\n",
    "            p0Denom += sum(trainMatrix[i])\n",
    "    p1Vect = p1Num/p1Denom\n",
    "    p0Vect = p0Num/p0Denom \n",
    "    return p0Vect,p1Vect,pAbusive"
   ]
  },
  {
   "cell_type": "code",
   "execution_count": 81,
   "metadata": {},
   "outputs": [],
   "source": [
    "def classifyNB(vec2Classify, p0Vec, p1Vec, pClass1):\n",
    "    p1 = sum(vec2Classify * p1Vec) + np.log(pClass1)\n",
    "    p0 = sum(vec2Classify * p0Vec) + np.log(1.0 - pClass1)\n",
    "    if p1 > p0:\n",
    "        return 1\n",
    "    else: \n",
    "        return 0\n",
    "    "
   ]
  },
  {
   "cell_type": "code",
   "execution_count": 82,
   "metadata": {},
   "outputs": [],
   "source": [
    "def bagOfWords2VecMN(vocabList, inputSet):\n",
    "    returnVec = [0]*len(vocabList)\n",
    "    for word in inputSet:\n",
    "        if word in vocabList:\n",
    "            returnVec[vocabList.index(word)] += 1\n",
    "    return returnVec"
   ]
  },
  {
   "cell_type": "code",
   "execution_count": 85,
   "metadata": {},
   "outputs": [],
   "source": [
    "def testingNB():\n",
    "    listOPosts,listClasses = loadDataSet()\n",
    "    myVocabList = createVocabList(listOPosts)\n",
    "    trainMat=[]\n",
    "    for postinDoc in listOPosts:\n",
    "        trainMat.append(setOfWords2Vec(myVocabList, postinDoc))\n",
    "    p0V,p1V,pAb = trainNB0(np.array(trainMat),np.array(listClasses))\n",
    "    testEntry = ['love', 'my', 'dalmation']\n",
    "    thisDoc = np.array(setOfWords2Vec(myVocabList, testEntry))\n",
    "    print(testEntry,'classified as: ',classifyNB(thisDoc,p0V,p1V,pAb))\n",
    "    testEntry = ['stupid', 'garbage']\n",
    "    thisDoc = np.array(setOfWords2Vec(myVocabList, testEntry))\n",
    "    print(testEntry,'classified as: ',classifyNB(thisDoc,p0V,p1V,pAb))"
   ]
  },
  {
   "cell_type": "code",
   "execution_count": 56,
   "metadata": {},
   "outputs": [],
   "source": [
    "def textParse(bigString):\n",
    "    import re\n",
    "    listOfTokens = re.split(r'\\W*', bigString)\n",
    "    return [tok.lower() for tok in listOfTokens if len(tok) > 2] "
   ]
  },
  {
   "cell_type": "code",
   "execution_count": 57,
   "metadata": {},
   "outputs": [],
   "source": [
    " def spamTest():\n",
    "    docList=[]; classList = []; fullText =[]\n",
    "    for i in range(1,26):\n",
    "        wordList = textParse(open('email/spam/%d.txt' % i).read())\n",
    "        docList.append(wordList)\n",
    "        fullText.extend(wordList)\n",
    "        classList.append(1)\n",
    "        wordList = textParse(open('email/ham/%d.txt' % i).read())\n",
    "        docList.append(wordList)\n",
    "        fullText.extend(wordList)\n",
    "        classList.append(0)\n",
    "    vocabList = createVocabList(docList)\n",
    "    trainingSet = range(50); testSet=[] \n",
    "    for i in range(10):\n",
    "        randIndex = int(random.uniform(0,len(trainingSet)))\n",
    "        testSet.append(trainingSet[randIndex])\n",
    "        del(trainingSet[randIndex])  \n",
    "    trainMat=[]; trainClasses = []\n",
    "    for docIndex in trainingSet:\n",
    "        trainMat.append(bagOfWords2VecMN(vocabList, docList[docIndex]))\n",
    "        trainClasses.append(classList[docIndex])\n",
    "    p0V,p1V,pSpam = trainNB0(array(trainMat),array(trainClasses))\n",
    "    errorCount = 0\n",
    "    for docIndex in testSet:\n",
    "        wordVector = bagOfWords2VecMN(vocabList, docList[docIndex])\n",
    "        if classifyNB(array(wordVector),p0V,p1V,pSpam) != classList[docIndex]:\n",
    "            errorCount += 1\n",
    "            print(\"classification error\",docList[docIndex])\n",
    "    print('the error rate is: ',float(errorCount)/len(testSet))"
   ]
  },
  {
   "cell_type": "code",
   "execution_count": 58,
   "metadata": {},
   "outputs": [],
   "source": [
    "def calcMostFreq(vocabList,fullText):\n",
    "    import operator\n",
    "    freqDict = {}\n",
    "    for token in vocabList:\n",
    "        freqDict[token]=fullText.count(token)\n",
    "    sortedFreq = sorted(freqDict.iteritems(), key=operator.itemgetter(1), reverse=True) \n",
    "    return sortedFreq[:30]       "
   ]
  },
  {
   "cell_type": "code",
   "execution_count": 59,
   "metadata": {},
   "outputs": [],
   "source": [
    "def localWords(feed1,feed0):\n",
    "    import feedparser\n",
    "    docList=[]; classList = []; fullText =[]\n",
    "    minLen = min(len(feed1['entries']),len(feed0['entries']))\n",
    "    for i in range(minLen):\n",
    "        wordList = textParse(feed1['entries'][i]['summary'])\n",
    "        docList.append(wordList)\n",
    "        fullText.extend(wordList)\n",
    "        classList.append(1) #NY is class 1\n",
    "        wordList = textParse(feed0['entries'][i]['summary'])\n",
    "        docList.append(wordList)\n",
    "        fullText.extend(wordList)\n",
    "        classList.append(0)\n",
    "    vocabList = createVocabList(docList)\n",
    "    top30Words = calcMostFreq(vocabList,fullText)\n",
    "    for pairW in top30Words:\n",
    "        if pairW[0] in vocabList: vocabList.remove(pairW[0])\n",
    "    trainingSet = range(2*minLen); testSet=[]\n",
    "    for i in range(20):\n",
    "        randIndex = int(random.uniform(0,len(trainingSet)))\n",
    "        testSet.append(trainingSet[randIndex])\n",
    "        del(trainingSet[randIndex])  \n",
    "    trainMat=[]; trainClasses = []\n",
    "    for docIndex in trainingSet:\n",
    "        trainMat.append(bagOfWords2VecMN(vocabList, docList[docIndex]))\n",
    "        trainClasses.append(classList[docIndex])\n",
    "    p0V,p1V,pSpam = trainNB0(array(trainMat),array(trainClasses))\n",
    "    errorCount = 0\n",
    "    for docIndex in testSet:\n",
    "        wordVector = bagOfWords2VecMN(vocabList, docList[docIndex])\n",
    "        if classifyNB(array(wordVector),p0V,p1V,pSpam) != classList[docIndex]:\n",
    "            errorCount += 1\n",
    "    print('the error rate is: ',float(errorCount)/len(testSet))\n",
    "    return vocabList,p0V,p1V"
   ]
  },
  {
   "cell_type": "code",
   "execution_count": 60,
   "metadata": {},
   "outputs": [],
   "source": [
    "def getTopWords(ny,sf):\n",
    "    import operator\n",
    "    vocabList,p0V,p1V=localWords(ny,sf)\n",
    "    topNY=[]; topSF=[]\n",
    "    for i in range(len(p0V)):\n",
    "        if p0V[i] > -6.0 : topSF.append((vocabList[i],p0V[i]))\n",
    "        if p1V[i] > -6.0 : topNY.append((vocabList[i],p1V[i]))\n",
    "    sortedSF = sorted(topSF, key=lambda pair: pair[1], reverse=True)\n",
    "    print(\"SF**SF**SF**SF**SF**SF**SF**SF**SF**SF**SF**SF**SF**SF**SF**SF**\")\n",
    "    for item in sortedSF:\n",
    "        print(item[0])\n",
    "    sortedNY = sorted(topNY, key=lambda pair: pair[1], reverse=True)\n",
    "    print(\"NY**NY**NY**NY**NY**NY**NY**NY**NY**NY**NY**NY**NY**NY**NY**NY**\")\n",
    "    for item in sortedNY:\n",
    "        print(item[0])"
   ]
  },
  {
   "cell_type": "code",
   "execution_count": 61,
   "metadata": {},
   "outputs": [],
   "source": [
    "listOPosts, listClasses = loadDataSet()"
   ]
  },
  {
   "cell_type": "code",
   "execution_count": 62,
   "metadata": {},
   "outputs": [
    {
     "data": {
      "text/plain": [
       "[['my', 'dog', 'has', 'flea', 'problems', 'help', 'please'],\n",
       " ['maybe', 'not', 'take', 'him', 'to', 'dog', 'park', 'stupid'],\n",
       " ['my', 'dalmation', 'is', 'so', 'cute', 'I', 'love', 'him'],\n",
       " ['stop', 'posting', 'stupid', 'worthless', 'garbage'],\n",
       " ['mr', 'licks', 'ate', 'my', 'steak', 'how', 'to', 'stop', 'him'],\n",
       " ['quit', 'buying', 'worthless', ' dog', 'food', 'stupid']]"
      ]
     },
     "execution_count": 62,
     "metadata": {},
     "output_type": "execute_result"
    }
   ],
   "source": [
    "listOPosts"
   ]
  },
  {
   "cell_type": "code",
   "execution_count": 63,
   "metadata": {},
   "outputs": [
    {
     "data": {
      "text/plain": [
       "[0, 1, 0, 1, 0, 1]"
      ]
     },
     "execution_count": 63,
     "metadata": {},
     "output_type": "execute_result"
    }
   ],
   "source": [
    "listClasses"
   ]
  },
  {
   "cell_type": "code",
   "execution_count": 64,
   "metadata": {},
   "outputs": [],
   "source": [
    "myVocabList = createVocabList(listOPosts)"
   ]
  },
  {
   "cell_type": "code",
   "execution_count": 65,
   "metadata": {},
   "outputs": [
    {
     "data": {
      "text/plain": [
       "['how',\n",
       " 'steak',\n",
       " 'I',\n",
       " 'licks',\n",
       " 'my',\n",
       " 'mr',\n",
       " 'ate',\n",
       " 'garbage',\n",
       " 'is',\n",
       " 'to',\n",
       " 'take',\n",
       " 'problems',\n",
       " 'buying',\n",
       " 'stupid',\n",
       " 'posting',\n",
       " 'please',\n",
       " 'flea',\n",
       " 'so',\n",
       " 'dalmation',\n",
       " 'help',\n",
       " 'cute',\n",
       " 'love',\n",
       " 'worthless',\n",
       " 'maybe',\n",
       " 'quit',\n",
       " 'food',\n",
       " 'park',\n",
       " 'him',\n",
       " ' dog',\n",
       " 'not',\n",
       " 'has',\n",
       " 'dog',\n",
       " 'stop']"
      ]
     },
     "execution_count": 65,
     "metadata": {},
     "output_type": "execute_result"
    }
   ],
   "source": [
    "myVocabList"
   ]
  },
  {
   "cell_type": "code",
   "execution_count": 66,
   "metadata": {},
   "outputs": [
    {
     "data": {
      "text/plain": [
       "[0,\n",
       " 0,\n",
       " 0,\n",
       " 0,\n",
       " 1,\n",
       " 0,\n",
       " 0,\n",
       " 0,\n",
       " 0,\n",
       " 0,\n",
       " 0,\n",
       " 1,\n",
       " 0,\n",
       " 0,\n",
       " 0,\n",
       " 1,\n",
       " 1,\n",
       " 0,\n",
       " 0,\n",
       " 1,\n",
       " 0,\n",
       " 0,\n",
       " 0,\n",
       " 0,\n",
       " 0,\n",
       " 0,\n",
       " 0,\n",
       " 0,\n",
       " 0,\n",
       " 0,\n",
       " 1,\n",
       " 1,\n",
       " 0]"
      ]
     },
     "execution_count": 66,
     "metadata": {},
     "output_type": "execute_result"
    }
   ],
   "source": [
    "setOfWords2Vec(myVocabList, listOPosts[0])"
   ]
  },
  {
   "cell_type": "code",
   "execution_count": 67,
   "metadata": {},
   "outputs": [
    {
     "data": {
      "text/plain": [
       "['my', 'dog', 'has', 'flea', 'problems', 'help', 'please']"
      ]
     },
     "execution_count": 67,
     "metadata": {},
     "output_type": "execute_result"
    }
   ],
   "source": [
    "listOPosts[0]"
   ]
  },
  {
   "cell_type": "code",
   "execution_count": 68,
   "metadata": {},
   "outputs": [],
   "source": [
    "trainMat=[]"
   ]
  },
  {
   "cell_type": "code",
   "execution_count": 69,
   "metadata": {},
   "outputs": [],
   "source": [
    "for postinDoc in listOPosts:\n",
    "    trainMat.append(setOfWords2Vec(myVocabList, postinDoc))"
   ]
  },
  {
   "cell_type": "code",
   "execution_count": 70,
   "metadata": {},
   "outputs": [
    {
     "data": {
      "text/plain": [
       "[[0,\n",
       "  0,\n",
       "  0,\n",
       "  0,\n",
       "  1,\n",
       "  0,\n",
       "  0,\n",
       "  0,\n",
       "  0,\n",
       "  0,\n",
       "  0,\n",
       "  1,\n",
       "  0,\n",
       "  0,\n",
       "  0,\n",
       "  1,\n",
       "  1,\n",
       "  0,\n",
       "  0,\n",
       "  1,\n",
       "  0,\n",
       "  0,\n",
       "  0,\n",
       "  0,\n",
       "  0,\n",
       "  0,\n",
       "  0,\n",
       "  0,\n",
       "  0,\n",
       "  0,\n",
       "  1,\n",
       "  1,\n",
       "  0],\n",
       " [0,\n",
       "  0,\n",
       "  0,\n",
       "  0,\n",
       "  0,\n",
       "  0,\n",
       "  0,\n",
       "  0,\n",
       "  0,\n",
       "  1,\n",
       "  1,\n",
       "  0,\n",
       "  0,\n",
       "  1,\n",
       "  0,\n",
       "  0,\n",
       "  0,\n",
       "  0,\n",
       "  0,\n",
       "  0,\n",
       "  0,\n",
       "  0,\n",
       "  0,\n",
       "  1,\n",
       "  0,\n",
       "  0,\n",
       "  1,\n",
       "  1,\n",
       "  0,\n",
       "  1,\n",
       "  0,\n",
       "  1,\n",
       "  0],\n",
       " [0,\n",
       "  0,\n",
       "  1,\n",
       "  0,\n",
       "  1,\n",
       "  0,\n",
       "  0,\n",
       "  0,\n",
       "  1,\n",
       "  0,\n",
       "  0,\n",
       "  0,\n",
       "  0,\n",
       "  0,\n",
       "  0,\n",
       "  0,\n",
       "  0,\n",
       "  1,\n",
       "  1,\n",
       "  0,\n",
       "  1,\n",
       "  1,\n",
       "  0,\n",
       "  0,\n",
       "  0,\n",
       "  0,\n",
       "  0,\n",
       "  1,\n",
       "  0,\n",
       "  0,\n",
       "  0,\n",
       "  0,\n",
       "  0],\n",
       " [0,\n",
       "  0,\n",
       "  0,\n",
       "  0,\n",
       "  0,\n",
       "  0,\n",
       "  0,\n",
       "  1,\n",
       "  0,\n",
       "  0,\n",
       "  0,\n",
       "  0,\n",
       "  0,\n",
       "  1,\n",
       "  1,\n",
       "  0,\n",
       "  0,\n",
       "  0,\n",
       "  0,\n",
       "  0,\n",
       "  0,\n",
       "  0,\n",
       "  1,\n",
       "  0,\n",
       "  0,\n",
       "  0,\n",
       "  0,\n",
       "  0,\n",
       "  0,\n",
       "  0,\n",
       "  0,\n",
       "  0,\n",
       "  1],\n",
       " [1,\n",
       "  1,\n",
       "  0,\n",
       "  1,\n",
       "  1,\n",
       "  1,\n",
       "  1,\n",
       "  0,\n",
       "  0,\n",
       "  1,\n",
       "  0,\n",
       "  0,\n",
       "  0,\n",
       "  0,\n",
       "  0,\n",
       "  0,\n",
       "  0,\n",
       "  0,\n",
       "  0,\n",
       "  0,\n",
       "  0,\n",
       "  0,\n",
       "  0,\n",
       "  0,\n",
       "  0,\n",
       "  0,\n",
       "  0,\n",
       "  1,\n",
       "  0,\n",
       "  0,\n",
       "  0,\n",
       "  0,\n",
       "  1],\n",
       " [0,\n",
       "  0,\n",
       "  0,\n",
       "  0,\n",
       "  0,\n",
       "  0,\n",
       "  0,\n",
       "  0,\n",
       "  0,\n",
       "  0,\n",
       "  0,\n",
       "  0,\n",
       "  1,\n",
       "  1,\n",
       "  0,\n",
       "  0,\n",
       "  0,\n",
       "  0,\n",
       "  0,\n",
       "  0,\n",
       "  0,\n",
       "  0,\n",
       "  1,\n",
       "  0,\n",
       "  1,\n",
       "  1,\n",
       "  0,\n",
       "  0,\n",
       "  1,\n",
       "  0,\n",
       "  0,\n",
       "  0,\n",
       "  0]]"
      ]
     },
     "execution_count": 70,
     "metadata": {},
     "output_type": "execute_result"
    }
   ],
   "source": [
    "trainMat"
   ]
  },
  {
   "cell_type": "code",
   "execution_count": 71,
   "metadata": {},
   "outputs": [],
   "source": [
    "p0V, p1V, pAb = trainNB0(trainMat, listClasses)"
   ]
  },
  {
   "cell_type": "code",
   "execution_count": 72,
   "metadata": {},
   "outputs": [
    {
     "data": {
      "text/plain": [
       "array([0.04166667, 0.04166667, 0.04166667, 0.04166667, 0.125     ,\n",
       "       0.04166667, 0.04166667, 0.        , 0.04166667, 0.04166667,\n",
       "       0.        , 0.04166667, 0.        , 0.        , 0.        ,\n",
       "       0.04166667, 0.04166667, 0.04166667, 0.04166667, 0.04166667,\n",
       "       0.04166667, 0.04166667, 0.        , 0.        , 0.        ,\n",
       "       0.        , 0.        , 0.08333333, 0.        , 0.        ,\n",
       "       0.04166667, 0.04166667, 0.04166667])"
      ]
     },
     "execution_count": 72,
     "metadata": {},
     "output_type": "execute_result"
    }
   ],
   "source": [
    "p0V"
   ]
  },
  {
   "cell_type": "code",
   "execution_count": 73,
   "metadata": {},
   "outputs": [
    {
     "data": {
      "text/plain": [
       "array([0.        , 0.        , 0.        , 0.        , 0.        ,\n",
       "       0.        , 0.        , 0.05263158, 0.        , 0.05263158,\n",
       "       0.05263158, 0.        , 0.05263158, 0.15789474, 0.05263158,\n",
       "       0.        , 0.        , 0.        , 0.        , 0.        ,\n",
       "       0.        , 0.        , 0.10526316, 0.05263158, 0.05263158,\n",
       "       0.05263158, 0.05263158, 0.05263158, 0.05263158, 0.05263158,\n",
       "       0.        , 0.05263158, 0.05263158])"
      ]
     },
     "execution_count": 73,
     "metadata": {},
     "output_type": "execute_result"
    }
   ],
   "source": [
    "p1V"
   ]
  },
  {
   "cell_type": "code",
   "execution_count": 74,
   "metadata": {},
   "outputs": [
    {
     "data": {
      "text/plain": [
       "0.5"
      ]
     },
     "execution_count": 74,
     "metadata": {},
     "output_type": "execute_result"
    }
   ],
   "source": [
    "pAb"
   ]
  },
  {
   "cell_type": "code",
   "execution_count": 75,
   "metadata": {},
   "outputs": [],
   "source": [
    "def trainNB0(trainMatrix,trainCategory):\n",
    "    numTrainDocs = len(trainMatrix)\n",
    "    numWords = len(trainMatrix[0])\n",
    "    pAbusive = sum(trainCategory)/float(numTrainDocs)\n",
    "    p0Num = np.ones(numWords); p1Num = np.ones(numWords)      \n",
    "    p0Denom = 2.0; p1Denom = 2.0            \n",
    "    for i in range(numTrainDocs):\n",
    "        if trainCategory[i] == 1:\n",
    "            p1Num += trainMatrix[i]\n",
    "            p1Denom += sum(trainMatrix[i])\n",
    "        else:\n",
    "            p0Num += trainMatrix[i]\n",
    "            p0Denom += sum(trainMatrix[i])\n",
    "    p1Vect = np.log(p1Num/p1Denom)\n",
    "    p0Vect = np.log(p0Num/p0Denom)\n",
    "    return p0Vect,p1Vect,pAbusive"
   ]
  },
  {
   "cell_type": "code",
   "execution_count": 76,
   "metadata": {},
   "outputs": [],
   "source": [
    "p0V, p1V, pAb = trainNB0(trainMat, listClasses)"
   ]
  },
  {
   "cell_type": "code",
   "execution_count": 77,
   "metadata": {},
   "outputs": [
    {
     "data": {
      "text/plain": [
       "array([-2.56494936, -2.56494936, -2.56494936, -2.56494936, -1.87180218,\n",
       "       -2.56494936, -2.56494936, -3.25809654, -2.56494936, -2.56494936,\n",
       "       -3.25809654, -2.56494936, -3.25809654, -3.25809654, -3.25809654,\n",
       "       -2.56494936, -2.56494936, -2.56494936, -2.56494936, -2.56494936,\n",
       "       -2.56494936, -2.56494936, -3.25809654, -3.25809654, -3.25809654,\n",
       "       -3.25809654, -3.25809654, -2.15948425, -3.25809654, -3.25809654,\n",
       "       -2.56494936, -2.56494936, -2.56494936])"
      ]
     },
     "execution_count": 77,
     "metadata": {},
     "output_type": "execute_result"
    }
   ],
   "source": [
    "p0V"
   ]
  },
  {
   "cell_type": "code",
   "execution_count": 78,
   "metadata": {},
   "outputs": [
    {
     "data": {
      "text/plain": [
       "array([-3.04452244, -3.04452244, -3.04452244, -3.04452244, -3.04452244,\n",
       "       -3.04452244, -3.04452244, -2.35137526, -3.04452244, -2.35137526,\n",
       "       -2.35137526, -3.04452244, -2.35137526, -1.65822808, -2.35137526,\n",
       "       -3.04452244, -3.04452244, -3.04452244, -3.04452244, -3.04452244,\n",
       "       -3.04452244, -3.04452244, -1.94591015, -2.35137526, -2.35137526,\n",
       "       -2.35137526, -2.35137526, -2.35137526, -2.35137526, -2.35137526,\n",
       "       -3.04452244, -2.35137526, -2.35137526])"
      ]
     },
     "execution_count": 78,
     "metadata": {},
     "output_type": "execute_result"
    }
   ],
   "source": [
    "p1V"
   ]
  },
  {
   "cell_type": "code",
   "execution_count": 79,
   "metadata": {},
   "outputs": [
    {
     "data": {
      "text/plain": [
       "0.5"
      ]
     },
     "execution_count": 79,
     "metadata": {},
     "output_type": "execute_result"
    }
   ],
   "source": [
    "pAb"
   ]
  },
  {
   "cell_type": "code",
   "execution_count": 86,
   "metadata": {},
   "outputs": [
    {
     "name": "stdout",
     "output_type": "stream",
     "text": [
      "['love', 'my', 'dalmation'] classified as:  0\n",
      "['stupid', 'garbage'] classified as:  1\n"
     ]
    }
   ],
   "source": [
    "testingNB()"
   ]
  },
  {
   "cell_type": "code",
   "execution_count": null,
   "metadata": {},
   "outputs": [],
   "source": []
  },
  {
   "cell_type": "code",
   "execution_count": 32,
   "metadata": {},
   "outputs": [],
   "source": [
    "import feedparser"
   ]
  },
  {
   "cell_type": "code",
   "execution_count": 33,
   "metadata": {},
   "outputs": [],
   "source": [
    "ny = feedparser.parse('http://newyork.craigslist.org/stp/index.rss')"
   ]
  },
  {
   "cell_type": "code",
   "execution_count": 34,
   "metadata": {},
   "outputs": [
    {
     "data": {
      "text/plain": [
       "{'bozo': 1,\n",
       " 'bozo_exception': xml.sax._exceptions.SAXParseException('mismatched tag'),\n",
       " 'encoding': 'UTF-8',\n",
       " 'entries': [],\n",
       " 'feed': {'html': {'class': 'no-js'},\n",
       "  'links': [{'href': 'https://www.craigslist.org/styles/simple-page.css?v=4bad712fe2dcea62681a7f8f2288a1d8',\n",
       "    'media': 'all',\n",
       "    'rel': 'stylesheet',\n",
       "    'type': 'text/css'},\n",
       "   {'href': 'https://www.craigslist.org/styles/jquery-ui-clcustom.css?v=3b05ddffb7c7f5b62066deff2dda9339',\n",
       "    'media': 'all',\n",
       "    'rel': 'stylesheet',\n",
       "    'type': 'text/css'},\n",
       "   {'href': 'https://www.craigslist.org/styles/jquery.qtip-2.2.1.css?v=cd202aead4d1dd4894fbae4ade23fcf8',\n",
       "    'media': 'all',\n",
       "    'rel': 'stylesheet',\n",
       "    'type': 'text/css'}],\n",
       "  'meta': {'content': 'width=device-width,initial-scale=1',\n",
       "   'name': 'viewport'},\n",
       "  'summary': '<div class=\"page-container\">\\n            <header class=\"global-header \">\\n   <a class=\"header-logo\" href=\"http://www.craigslist.org\" name=\"logoLink\">CL</a>\\n\\n    <nav class=\"breadcrumbs-container\">\\n\\n<ul class=\"breadcrumbs\">\\n        <li class=\"crumb\">\\n            <p>\\n                Page Not Found\\n            </p>\\n        </li>\\n</ul>\\n    </nav>\\n\\n\\n</header>\\n\\n\\n            <section class=\"simple-page-content\">\\n                <br /><br />\\n<blockquote>\\n<p>There is nothing here</p>\\n<p>No web page for this address</p>\\n<p>404 Error</p>\\n<pre>\\n<big>\\n\\n _____________\\n(  <a href=\"https://www.craigslist.org/\">return to</a>  )\\n(  <a href=\"https://www.craigslist.org/\">craigslist</a> )\\n(  <a href=\"https://www.craigslist.org/\">homepage?</a>  )\\n -------------\\n       O\\n\\tO   ^__^\\n\\t o  (oo)\\\\_______\\n\\t    (__)\\\\       )\\\\/\\\\\\n\\t\\t||----w |\\n\\t\\t||     ||\\n</big>\\n</pre>\\n</blockquote>\\n\\n            </section>\\n\\n<footer>\\n    <ul class=\"clfooter\">\\n        <li>©  <span class=\"desktop\">craigslist</span><span class=\"mobile\">CL</span></li>\\n        <li><a href=\"https://www.craigslist.org/about/help/\">help</a></li>\\n        <li><a href=\"https://www.craigslist.org/about/scams\">safety</a></li>\\n        <li class=\"desktop\"><a href=\"https://www.craigslist.org/about/privacy.policy\">privacy</a></li>\\n        <li class=\"desktop\"><a href=\"https://forums.craigslist.org/?forumID=8\">feedback</a></li>\\n        <li class=\"desktop\"><a href=\"https://www.craigslist.org/about/craigslist_is_hiring\">cl jobs</a></li>\\n        <li><a href=\"https://www.craigslist.org/about/terms.of.use\">terms</a><sup class=\"neu\">new</sup></li>\\n        <li><a href=\"https://www.craigslist.org/about/\">about</a></li>\\n        <li class=\"fsel desktop linklike\">mobile</li>\\n        <li class=\"fsel mobile linklike\">desktop</li>\\n    </ul>\\n</footer>\\n        </div>'},\n",
       " 'headers': {'Cache-control': 'private',\n",
       "  'Connection': 'keep-alive',\n",
       "  'Content-Encoding': 'gzip',\n",
       "  'Content-Length': '1860',\n",
       "  'Content-Type': 'text/html; charset=UTF-8',\n",
       "  'Date': 'Sat, 24 Mar 2018 14:19:03 GMT',\n",
       "  'Expires': 'Thu, 01 Jan 1970 00:00:00 GMT',\n",
       "  'Last-Modified': 'Sat, 24 Mar 2018 14:19:03 GMT',\n",
       "  'Pragma': 'no-cache',\n",
       "  'Server': 'Apache',\n",
       "  'Set-Cookie': 'cl_b=jKrfTW4v6BGhNW6vHzPk3wq30LQ;path=/;domain=.craigslist.org;expires=Fri, 01-Jan-2038 00:00:00 GMT',\n",
       "  'Strict-Transport-Security': 'max-age=86400',\n",
       "  'Vary': 'Accept-Encoding',\n",
       "  'X-Frame-Options': 'SAMEORIGIN'},\n",
       " 'href': 'https://newyork.craigslist.org/search/stp?format=rss',\n",
       " 'namespaces': {},\n",
       " 'status': 301,\n",
       " 'updated': 'Sat, 24 Mar 2018 14:19:03 GMT',\n",
       " 'updated_parsed': time.struct_time(tm_year=2018, tm_mon=3, tm_mday=24, tm_hour=14, tm_min=19, tm_sec=3, tm_wday=5, tm_yday=83, tm_isdst=0),\n",
       " 'version': ''}"
      ]
     },
     "execution_count": 34,
     "metadata": {},
     "output_type": "execute_result"
    }
   ],
   "source": [
    "ny"
   ]
  },
  {
   "cell_type": "code",
   "execution_count": 35,
   "metadata": {},
   "outputs": [
    {
     "data": {
      "text/plain": [
       "0"
      ]
     },
     "execution_count": 35,
     "metadata": {},
     "output_type": "execute_result"
    }
   ],
   "source": [
    "len(ny['entries'])"
   ]
  },
  {
   "cell_type": "code",
   "execution_count": 36,
   "metadata": {},
   "outputs": [],
   "source": [
    "sf = feedparser.parse('http://sfbay.craigslist.org/stp/index.rss')"
   ]
  },
  {
   "cell_type": "code",
   "execution_count": 37,
   "metadata": {},
   "outputs": [
    {
     "data": {
      "text/plain": [
       "{'bozo': 1,\n",
       " 'bozo_exception': xml.sax._exceptions.SAXParseException('mismatched tag'),\n",
       " 'encoding': 'UTF-8',\n",
       " 'entries': [],\n",
       " 'feed': {'html': {'class': 'no-js'},\n",
       "  'links': [{'href': 'https://www.craigslist.org/styles/simple-page.css?v=4bad712fe2dcea62681a7f8f2288a1d8',\n",
       "    'media': 'all',\n",
       "    'rel': 'stylesheet',\n",
       "    'type': 'text/css'},\n",
       "   {'href': 'https://www.craigslist.org/styles/jquery-ui-clcustom.css?v=3b05ddffb7c7f5b62066deff2dda9339',\n",
       "    'media': 'all',\n",
       "    'rel': 'stylesheet',\n",
       "    'type': 'text/css'},\n",
       "   {'href': 'https://www.craigslist.org/styles/jquery.qtip-2.2.1.css?v=cd202aead4d1dd4894fbae4ade23fcf8',\n",
       "    'media': 'all',\n",
       "    'rel': 'stylesheet',\n",
       "    'type': 'text/css'}],\n",
       "  'meta': {'content': 'width=device-width,initial-scale=1',\n",
       "   'name': 'viewport'},\n",
       "  'summary': '<div class=\"page-container\">\\n            <header class=\"global-header \">\\n   <a class=\"header-logo\" href=\"http://www.craigslist.org\" name=\"logoLink\">CL</a>\\n\\n    <nav class=\"breadcrumbs-container\">\\n\\n<ul class=\"breadcrumbs\">\\n        <li class=\"crumb\">\\n            <p>\\n                Page Not Found\\n            </p>\\n        </li>\\n</ul>\\n    </nav>\\n\\n\\n</header>\\n\\n\\n            <section class=\"simple-page-content\">\\n                <br /><br />\\n<blockquote>\\n<p>There is nothing here</p>\\n<p>No web page for this address</p>\\n<p>404 Error</p>\\n<pre>\\n<big>\\n\\n _____________\\n(  <a href=\"https://www.craigslist.org/\">return to</a>  )\\n(  <a href=\"https://www.craigslist.org/\">craigslist</a> )\\n(  <a href=\"https://www.craigslist.org/\">homepage?</a>  )\\n -------------\\n       O\\n\\tO   ^__^\\n\\t o  (oo)\\\\_______\\n\\t    (__)\\\\       )\\\\/\\\\\\n\\t\\t||----w |\\n\\t\\t||     ||\\n</big>\\n</pre>\\n</blockquote>\\n\\n            </section>\\n\\n<footer>\\n    <ul class=\"clfooter\">\\n        <li>©  <span class=\"desktop\">craigslist</span><span class=\"mobile\">CL</span></li>\\n        <li><a href=\"https://www.craigslist.org/about/help/\">help</a></li>\\n        <li><a href=\"https://www.craigslist.org/about/scams\">safety</a></li>\\n        <li class=\"desktop\"><a href=\"https://www.craigslist.org/about/privacy.policy\">privacy</a></li>\\n        <li class=\"desktop\"><a href=\"https://forums.craigslist.org/?forumID=8\">feedback</a></li>\\n        <li class=\"desktop\"><a href=\"https://www.craigslist.org/about/craigslist_is_hiring\">cl jobs</a></li>\\n        <li><a href=\"https://www.craigslist.org/about/terms.of.use\">terms</a><sup class=\"neu\">new</sup></li>\\n        <li><a href=\"https://www.craigslist.org/about/\">about</a></li>\\n        <li class=\"fsel desktop linklike\">mobile</li>\\n        <li class=\"fsel mobile linklike\">desktop</li>\\n    </ul>\\n</footer>\\n        </div>'},\n",
       " 'headers': {'Cache-control': 'private',\n",
       "  'Connection': 'keep-alive',\n",
       "  'Content-Encoding': 'gzip',\n",
       "  'Content-Length': '1860',\n",
       "  'Content-Type': 'text/html; charset=UTF-8',\n",
       "  'Date': 'Sat, 24 Mar 2018 14:19:08 GMT',\n",
       "  'Expires': 'Thu, 01 Jan 1970 00:00:00 GMT',\n",
       "  'Last-Modified': 'Sat, 24 Mar 2018 14:19:08 GMT',\n",
       "  'Pragma': 'no-cache',\n",
       "  'Server': 'Apache',\n",
       "  'Set-Cookie': 'cl_b=BIvtUG4v6BGQ5RHGDzTFPwKRBeU;path=/;domain=.craigslist.org;expires=Fri, 01-Jan-2038 00:00:00 GMT',\n",
       "  'Strict-Transport-Security': 'max-age=86400',\n",
       "  'Vary': 'Accept-Encoding',\n",
       "  'X-Frame-Options': 'SAMEORIGIN'},\n",
       " 'href': 'https://sfbay.craigslist.org/search/stp?format=rss',\n",
       " 'namespaces': {},\n",
       " 'status': 301,\n",
       " 'updated': 'Sat, 24 Mar 2018 14:19:08 GMT',\n",
       " 'updated_parsed': time.struct_time(tm_year=2018, tm_mon=3, tm_mday=24, tm_hour=14, tm_min=19, tm_sec=8, tm_wday=5, tm_yday=83, tm_isdst=0),\n",
       " 'version': ''}"
      ]
     },
     "execution_count": 37,
     "metadata": {},
     "output_type": "execute_result"
    }
   ],
   "source": [
    "sf"
   ]
  },
  {
   "cell_type": "code",
   "execution_count": 38,
   "metadata": {},
   "outputs": [
    {
     "data": {
      "text/plain": [
       "[]"
      ]
     },
     "execution_count": 38,
     "metadata": {},
     "output_type": "execute_result"
    }
   ],
   "source": [
    "sf['entries']"
   ]
  },
  {
   "cell_type": "code",
   "execution_count": null,
   "metadata": {},
   "outputs": [],
   "source": []
  }
 ],
 "metadata": {
  "kernelspec": {
   "display_name": "Python 3",
   "language": "python",
   "name": "python3"
  },
  "language_info": {
   "codemirror_mode": {
    "name": "ipython",
    "version": 3
   },
   "file_extension": ".py",
   "mimetype": "text/x-python",
   "name": "python",
   "nbconvert_exporter": "python",
   "pygments_lexer": "ipython3",
   "version": "3.6.4"
  }
 },
 "nbformat": 4,
 "nbformat_minor": 2
}
