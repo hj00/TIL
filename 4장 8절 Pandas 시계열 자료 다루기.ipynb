{
 "cells": [
  {
   "cell_type": "markdown",
   "metadata": {},
   "source": [
    "# Pandas 시계열 자료 다루기\n",
    "### - 인덱스(Index) : pandas에서 일반적 테이블 자료와 시계열 자료의 차이점\n",
    "### - 일반테이블 : 임의의 값 인덱스로 가질 수 있음.\n",
    "### - 시계열 자료 : 다음 클래스를 인덱스로 -> DatetimeIndex(타임스탬프)\n",
    "\n",
    "## DatatimeIndex\n",
    "### - DatatimeIndex : 특정한 순간에 기록된 타임스탬프 형식의 시계열 자료를 다루기 위한 인덱스. 타임스탬프 인덱스는 반드시 일정한 간격으로 자료가 있어야 한다는 조건은 없음\n",
    "### - DatatimeIndex 생성방법\n",
    "###      - pd.to_datetime 함수\n",
    "###      - pd.date_range 함수"
   ]
  },
  {
   "cell_type": "markdown",
   "metadata": {},
   "source": [
    "## to_datetime"
   ]
  },
  {
   "cell_type": "code",
   "execution_count": 2,
   "metadata": {
    "collapsed": true
   },
   "outputs": [],
   "source": [
    "import pandas as pd\n",
    "import numpy as np"
   ]
  },
  {
   "cell_type": "code",
   "execution_count": 3,
   "metadata": {
    "collapsed": false
   },
   "outputs": [
    {
     "data": {
      "text/plain": [
       "DatetimeIndex(['2016-01-01', '2016-01-04', '2016-01-05', '2016-01-06'], dtype='datetime64[ns]', freq=None)"
      ]
     },
     "execution_count": 3,
     "metadata": {},
     "output_type": "execute_result"
    }
   ],
   "source": [
    "date_str = [\"2016, 1, 1\", \"2016, 1, 4\", \"2016, 1, 5\", \"2016, 1, 6\"]\n",
    "idx = pd.to_datetime(date_str)\n",
    "idx"
   ]
  },
  {
   "cell_type": "code",
   "execution_count": 4,
   "metadata": {
    "collapsed": false
   },
   "outputs": [
    {
     "data": {
      "text/plain": [
       "2016-01-01    1.764052\n",
       "2016-01-04    0.400157\n",
       "2016-01-05    0.978738\n",
       "2016-01-06    2.240893\n",
       "dtype: float64"
      ]
     },
     "execution_count": 4,
     "metadata": {},
     "output_type": "execute_result"
    }
   ],
   "source": [
    "np.random.seed(0)\n",
    "s = pd.Series(np.random.randn(4), index=idx)\n",
    "s"
   ]
  },
  {
   "cell_type": "markdown",
   "metadata": {},
   "source": [
    "## date_range\n",
    "#### - 시작일과 종료일 또는 시작일과 기간을 입력하면 범위 내의 날짜 및 시간 인덱스 생성\n",
    "#### - freq 인수로 빈도지정 가능"
   ]
  },
  {
   "cell_type": "code",
   "execution_count": 5,
   "metadata": {
    "collapsed": false
   },
   "outputs": [
    {
     "data": {
      "text/plain": [
       "DatetimeIndex(['2016-04-01', '2016-04-02', '2016-04-03', '2016-04-04',\n",
       "               '2016-04-05', '2016-04-06', '2016-04-07', '2016-04-08',\n",
       "               '2016-04-09', '2016-04-10', '2016-04-11', '2016-04-12',\n",
       "               '2016-04-13', '2016-04-14', '2016-04-15', '2016-04-16',\n",
       "               '2016-04-17', '2016-04-18', '2016-04-19', '2016-04-20',\n",
       "               '2016-04-21', '2016-04-22', '2016-04-23', '2016-04-24',\n",
       "               '2016-04-25', '2016-04-26', '2016-04-27', '2016-04-28',\n",
       "               '2016-04-29', '2016-04-30'],\n",
       "              dtype='datetime64[ns]', freq='D')"
      ]
     },
     "execution_count": 5,
     "metadata": {},
     "output_type": "execute_result"
    }
   ],
   "source": [
    "pd.date_range(\"2016-4-1\", \"2016-4-30\")"
   ]
  },
  {
   "cell_type": "code",
   "execution_count": 7,
   "metadata": {
    "collapsed": false
   },
   "outputs": [
    {
     "data": {
      "text/plain": [
       "DatetimeIndex(['2016-04-01', '2016-04-02', '2016-04-03', '2016-04-04',\n",
       "               '2016-04-05', '2016-04-06', '2016-04-07', '2016-04-08',\n",
       "               '2016-04-09', '2016-04-10', '2016-04-11', '2016-04-12',\n",
       "               '2016-04-13', '2016-04-14', '2016-04-15', '2016-04-16',\n",
       "               '2016-04-17', '2016-04-18', '2016-04-19', '2016-04-20',\n",
       "               '2016-04-21', '2016-04-22', '2016-04-23', '2016-04-24',\n",
       "               '2016-04-25', '2016-04-26', '2016-04-27', '2016-04-28',\n",
       "               '2016-04-29', '2016-04-30'],\n",
       "              dtype='datetime64[ns]', freq='D')"
      ]
     },
     "execution_count": 7,
     "metadata": {},
     "output_type": "execute_result"
    }
   ],
   "source": [
    "pd.date_range(start=\"2016-4-1\", periods=30)"
   ]
  },
  {
   "cell_type": "code",
   "execution_count": 9,
   "metadata": {
    "collapsed": false
   },
   "outputs": [
    {
     "data": {
      "text/plain": [
       "DatetimeIndex(['2016-04-01', '2016-04-04', '2016-04-05', '2016-04-06',\n",
       "               '2016-04-07', '2016-04-08', '2016-04-11', '2016-04-12',\n",
       "               '2016-04-13', '2016-04-14', '2016-04-15', '2016-04-18',\n",
       "               '2016-04-19', '2016-04-20', '2016-04-21', '2016-04-22',\n",
       "               '2016-04-25', '2016-04-26', '2016-04-27', '2016-04-28',\n",
       "               '2016-04-29'],\n",
       "              dtype='datetime64[ns]', freq='B')"
      ]
     },
     "execution_count": 9,
     "metadata": {},
     "output_type": "execute_result"
    }
   ],
   "source": [
    "pd.date_range(\"2016-4-1\", \"2016-4-30\", freq=\"B\")"
   ]
  },
  {
   "cell_type": "code",
   "execution_count": 10,
   "metadata": {
    "collapsed": false
   },
   "outputs": [
    {
     "data": {
      "text/plain": [
       "DatetimeIndex(['2016-04-01', '2016-05-01', '2016-06-01', '2016-07-01',\n",
       "               '2016-08-01', '2016-09-01', '2016-10-01', '2016-11-01',\n",
       "               '2016-12-01'],\n",
       "              dtype='datetime64[ns]', freq='MS')"
      ]
     },
     "execution_count": 10,
     "metadata": {},
     "output_type": "execute_result"
    }
   ],
   "source": [
    "pd.date_range(\"2016-4-1\", \"2016-12-31\", freq=\"MS\")"
   ]
  },
  {
   "cell_type": "code",
   "execution_count": 11,
   "metadata": {
    "collapsed": false
   },
   "outputs": [
    {
     "data": {
      "text/plain": [
       "DatetimeIndex(['2016-04-30', '2016-05-31', '2016-06-30', '2016-07-31',\n",
       "               '2016-08-31', '2016-09-30', '2016-10-31', '2016-11-30',\n",
       "               '2016-12-31'],\n",
       "              dtype='datetime64[ns]', freq='M')"
      ]
     },
     "execution_count": 11,
     "metadata": {},
     "output_type": "execute_result"
    }
   ],
   "source": [
    "pd.date_range(\"2016-4-1\", \"2016-12-31\", freq=\"M\")"
   ]
  },
  {
   "cell_type": "code",
   "execution_count": 12,
   "metadata": {
    "collapsed": false
   },
   "outputs": [
    {
     "data": {
      "text/plain": [
       "DatetimeIndex(['2016-04-01', '2016-05-02', '2016-06-01', '2016-07-01',\n",
       "               '2016-08-01', '2016-09-01', '2016-10-03', '2016-11-01',\n",
       "               '2016-12-01'],\n",
       "              dtype='datetime64[ns]', freq='BMS')"
      ]
     },
     "execution_count": 12,
     "metadata": {},
     "output_type": "execute_result"
    }
   ],
   "source": [
    "pd.date_range(\"2016-4-1\",\"2016-12-31\", freq=\"BMS\")"
   ]
  },
  {
   "cell_type": "code",
   "execution_count": 13,
   "metadata": {
    "collapsed": false
   },
   "outputs": [
    {
     "data": {
      "text/plain": [
       "DatetimeIndex(['2016-04-29', '2016-05-31', '2016-06-30', '2016-07-29',\n",
       "               '2016-08-31', '2016-09-30', '2016-10-31', '2016-11-30',\n",
       "               '2016-12-30'],\n",
       "              dtype='datetime64[ns]', freq='BM')"
      ]
     },
     "execution_count": 13,
     "metadata": {},
     "output_type": "execute_result"
    }
   ],
   "source": [
    "pd.date_range(\"2016-4-1\", \"2016-12-31\", freq=\"BM\")"
   ]
  },
  {
   "cell_type": "code",
   "execution_count": 14,
   "metadata": {
    "collapsed": false
   },
   "outputs": [
    {
     "data": {
      "text/plain": [
       "DatetimeIndex(['2016-01-04', '2016-01-11', '2016-01-18', '2016-01-25',\n",
       "               '2016-02-01', '2016-02-08', '2016-02-15', '2016-02-22',\n",
       "               '2016-02-29', '2016-03-07', '2016-03-14', '2016-03-21',\n",
       "               '2016-03-28', '2016-04-04', '2016-04-11', '2016-04-18',\n",
       "               '2016-04-25', '2016-05-02', '2016-05-09', '2016-05-16',\n",
       "               '2016-05-23', '2016-05-30', '2016-06-06', '2016-06-13',\n",
       "               '2016-06-20', '2016-06-27', '2016-07-04', '2016-07-11',\n",
       "               '2016-07-18', '2016-07-25', '2016-08-01', '2016-08-08',\n",
       "               '2016-08-15', '2016-08-22', '2016-08-29', '2016-09-05',\n",
       "               '2016-09-12', '2016-09-19', '2016-09-26', '2016-10-03',\n",
       "               '2016-10-10', '2016-10-17', '2016-10-24', '2016-10-31',\n",
       "               '2016-11-07', '2016-11-14', '2016-11-21', '2016-11-28',\n",
       "               '2016-12-05', '2016-12-12', '2016-12-19', '2016-12-26'],\n",
       "              dtype='datetime64[ns]', freq='W-MON')"
      ]
     },
     "execution_count": 14,
     "metadata": {},
     "output_type": "execute_result"
    }
   ],
   "source": [
    "pd.date_range(\"2016-1-1\", \"2016-12-31\", freq=\"W-MON\")"
   ]
  },
  {
   "cell_type": "code",
   "execution_count": 15,
   "metadata": {
    "collapsed": false
   },
   "outputs": [
    {
     "data": {
      "text/plain": [
       "DatetimeIndex(['2016-01-14', '2016-02-11', '2016-03-10', '2016-04-14',\n",
       "               '2016-05-12', '2016-06-09', '2016-07-14', '2016-08-11',\n",
       "               '2016-09-08', '2016-10-13', '2016-11-10', '2016-12-08'],\n",
       "              dtype='datetime64[ns]', freq='WOM-2THU')"
      ]
     },
     "execution_count": 15,
     "metadata": {},
     "output_type": "execute_result"
    }
   ],
   "source": [
    "pd.date_range(\"2016-1-1\", \"2016-12-31\", freq=\"WOM-2THU\")"
   ]
  },
  {
   "cell_type": "code",
   "execution_count": 16,
   "metadata": {
    "collapsed": false
   },
   "outputs": [
    {
     "data": {
      "text/plain": [
       "DatetimeIndex(['2016-03-31', '2016-06-30', '2016-09-30', '2016-12-31'], dtype='datetime64[ns]', freq='Q-DEC')"
      ]
     },
     "execution_count": 16,
     "metadata": {},
     "output_type": "execute_result"
    }
   ],
   "source": [
    "pd.date_range(\"2016-1-1\", \"2016-12-31\", freq=\"Q-DEC\")"
   ]
  },
  {
   "cell_type": "markdown",
   "metadata": {},
   "source": [
    "## shift 연산\n",
    "#### 날짜 이동"
   ]
  },
  {
   "cell_type": "code",
   "execution_count": 17,
   "metadata": {
    "collapsed": false
   },
   "outputs": [
    {
     "data": {
      "text/plain": [
       "2000-01-31    1.867558\n",
       "2000-02-29   -0.977278\n",
       "2000-03-31    0.950088\n",
       "2000-04-30   -0.151357\n",
       "Freq: M, dtype: float64"
      ]
     },
     "execution_count": 17,
     "metadata": {},
     "output_type": "execute_result"
    }
   ],
   "source": [
    "ts = pd.Series(np.random.randn(4), index=pd.date_range(\"2000-1-1\", periods=4, freq=\"M\"))\n",
    "ts"
   ]
  },
  {
   "cell_type": "code",
   "execution_count": 18,
   "metadata": {
    "collapsed": false
   },
   "outputs": [
    {
     "data": {
      "text/plain": [
       "2000-01-31         NaN\n",
       "2000-02-29    1.867558\n",
       "2000-03-31   -0.977278\n",
       "2000-04-30    0.950088\n",
       "Freq: M, dtype: float64"
      ]
     },
     "execution_count": 18,
     "metadata": {},
     "output_type": "execute_result"
    }
   ],
   "source": [
    "ts.shift(1)"
   ]
  },
  {
   "cell_type": "code",
   "execution_count": 19,
   "metadata": {
    "collapsed": false
   },
   "outputs": [
    {
     "data": {
      "text/plain": [
       "2000-01-31   -0.977278\n",
       "2000-02-29    0.950088\n",
       "2000-03-31   -0.151357\n",
       "2000-04-30         NaN\n",
       "Freq: M, dtype: float64"
      ]
     },
     "execution_count": 19,
     "metadata": {},
     "output_type": "execute_result"
    }
   ],
   "source": [
    "ts.shift(-1)"
   ]
  },
  {
   "cell_type": "code",
   "execution_count": 20,
   "metadata": {
    "collapsed": false
   },
   "outputs": [
    {
     "data": {
      "text/plain": [
       "2000-02-29    1.867558\n",
       "2000-03-31   -0.977278\n",
       "2000-04-30    0.950088\n",
       "2000-05-31   -0.151357\n",
       "Freq: M, dtype: float64"
      ]
     },
     "execution_count": 20,
     "metadata": {},
     "output_type": "execute_result"
    }
   ],
   "source": [
    "ts.shift(1, freq=\"M\")"
   ]
  },
  {
   "cell_type": "code",
   "execution_count": 21,
   "metadata": {
    "collapsed": false
   },
   "outputs": [
    {
     "data": {
      "text/plain": [
       "2000-02-06    1.867558\n",
       "2000-03-05   -0.977278\n",
       "2000-04-02    0.950088\n",
       "2000-05-07   -0.151357\n",
       "Freq: WOM-1SUN, dtype: float64"
      ]
     },
     "execution_count": 21,
     "metadata": {},
     "output_type": "execute_result"
    }
   ],
   "source": [
    "ts.shift(1, freq=\"W\")"
   ]
  },
  {
   "cell_type": "markdown",
   "metadata": {},
   "source": [
    "## 리샘플링(Resampling)\n",
    "### - up-sampling : 구간이 작아지는 경우\n",
    "### - down-sampling : 구간이 커지는 경우"
   ]
  },
  {
   "cell_type": "code",
   "execution_count": 22,
   "metadata": {
    "collapsed": false
   },
   "outputs": [
    {
     "data": {
      "text/plain": [
       "2000-03-21   -1.070753\n",
       "2000-03-22    1.054452\n",
       "2000-03-23   -0.403177\n",
       "2000-03-24    1.222445\n",
       "2000-03-25    0.208275\n",
       "2000-03-26    0.976639\n",
       "2000-03-27    0.356366\n",
       "2000-03-28    0.706573\n",
       "2000-03-29    0.010500\n",
       "2000-03-30    1.785870\n",
       "2000-03-31    0.126912\n",
       "2000-04-01    0.401989\n",
       "2000-04-02    1.883151\n",
       "2000-04-03   -1.347759\n",
       "2000-04-04   -1.270485\n",
       "2000-04-05    0.969397\n",
       "2000-04-06   -1.173123\n",
       "2000-04-07    1.943621\n",
       "2000-04-08   -0.413619\n",
       "2000-04-09   -0.747455\n",
       "Freq: D, dtype: float64"
      ]
     },
     "execution_count": 22,
     "metadata": {},
     "output_type": "execute_result"
    }
   ],
   "source": [
    "ts = pd.Series(np.random.randn(100), index=pd.date_range(\"2000-1-1\", periods=100, freq=\"D\"))\n",
    "ts.tail(20)"
   ]
  },
  {
   "cell_type": "code",
   "execution_count": 23,
   "metadata": {
    "collapsed": false
   },
   "outputs": [
    {
     "data": {
      "text/plain": [
       "2000-01-02    0.153690\n",
       "2000-01-09    0.678949\n",
       "2000-01-16   -0.360469\n",
       "2000-01-23    0.547293\n",
       "2000-01-30   -0.035616\n",
       "2000-02-06   -0.489050\n",
       "2000-02-13   -0.464083\n",
       "2000-02-20   -0.222374\n",
       "2000-02-27   -0.594077\n",
       "2000-03-05   -0.003614\n",
       "2000-03-12   -0.460333\n",
       "2000-03-19    0.461145\n",
       "2000-03-26    0.258279\n",
       "2000-04-02    0.753052\n",
       "2000-04-09   -0.291346\n",
       "Freq: W-SUN, dtype: float64"
      ]
     },
     "execution_count": 23,
     "metadata": {},
     "output_type": "execute_result"
    }
   ],
   "source": [
    "ts.resample('W').mean()"
   ]
  },
  {
   "cell_type": "code",
   "execution_count": 24,
   "metadata": {
    "collapsed": false
   },
   "outputs": [
    {
     "data": {
      "text/plain": [
       "2000-01-31   -0.103219\n",
       "2000-02-29   -0.302303\n",
       "2000-03-31   -0.907298\n",
       "2000-04-30    0.401989\n",
       "Freq: M, dtype: float64"
      ]
     },
     "execution_count": 24,
     "metadata": {},
     "output_type": "execute_result"
    }
   ],
   "source": [
    "ts.resample('M').first()"
   ]
  },
  {
   "cell_type": "code",
   "execution_count": 25,
   "metadata": {
    "collapsed": false
   },
   "outputs": [
    {
     "data": {
      "text/plain": [
       "2000-01-01 00:00:00    1.922942\n",
       "2000-01-01 00:01:00    1.480515\n",
       "2000-01-01 00:02:00    1.867559\n",
       "2000-01-01 00:03:00    0.906045\n",
       "2000-01-01 00:04:00   -0.861226\n",
       "2000-01-01 00:05:00    1.910065\n",
       "2000-01-01 00:06:00   -0.268003\n",
       "2000-01-01 00:07:00    0.802456\n",
       "2000-01-01 00:08:00    0.947252\n",
       "2000-01-01 00:09:00   -0.155010\n",
       "2000-01-01 00:10:00    0.614079\n",
       "2000-01-01 00:11:00    0.922207\n",
       "2000-01-01 00:12:00    0.376426\n",
       "2000-01-01 00:13:00   -1.099401\n",
       "2000-01-01 00:14:00    0.298238\n",
       "2000-01-01 00:15:00    1.326386\n",
       "2000-01-01 00:16:00   -0.694568\n",
       "2000-01-01 00:17:00   -0.149635\n",
       "2000-01-01 00:18:00   -0.435154\n",
       "2000-01-01 00:19:00    1.849264\n",
       "Freq: T, dtype: float64"
      ]
     },
     "execution_count": 25,
     "metadata": {},
     "output_type": "execute_result"
    }
   ],
   "source": [
    "ts = pd.Series(np.random.randn(60), index=pd.date_range(\"2000-1-1\", periods=60, freq=\"T\"))\n",
    "ts.head(20)"
   ]
  },
  {
   "cell_type": "code",
   "execution_count": 26,
   "metadata": {
    "collapsed": false
   },
   "outputs": [
    {
     "data": {
      "text/plain": [
       "2000-01-01 00:00:00    8.552595\n",
       "2000-01-01 00:10:00    3.007843\n",
       "2000-01-01 00:20:00    0.615467\n",
       "2000-01-01 00:30:00    2.584603\n",
       "2000-01-01 00:40:00   -2.418811\n",
       "2000-01-01 00:50:00   -2.042876\n",
       "Freq: 10T, dtype: float64"
      ]
     },
     "execution_count": 26,
     "metadata": {},
     "output_type": "execute_result"
    }
   ],
   "source": [
    "ts.resample('10min').sum()"
   ]
  },
  {
   "cell_type": "code",
   "execution_count": 27,
   "metadata": {
    "collapsed": false
   },
   "outputs": [
    {
     "data": {
      "text/plain": [
       "1999-12-31 23:50:00    1.922942\n",
       "2000-01-01 00:00:00    7.243732\n",
       "2000-01-01 00:10:00    3.066058\n",
       "2000-01-01 00:20:00    0.339179\n",
       "2000-01-01 00:30:00    0.872688\n",
       "2000-01-01 00:40:00   -2.250372\n",
       "2000-01-01 00:50:00   -0.895407\n",
       "Freq: 10T, dtype: float64"
      ]
     },
     "execution_count": 27,
     "metadata": {},
     "output_type": "execute_result"
    }
   ],
   "source": [
    "ts.resample('10min', closed=\"right\").sum()"
   ]
  },
  {
   "cell_type": "code",
   "execution_count": 28,
   "metadata": {
    "collapsed": false
   },
   "outputs": [
    {
     "data": {
      "text/html": [
       "<div>\n",
       "<table border=\"1\" class=\"dataframe\">\n",
       "  <thead>\n",
       "    <tr style=\"text-align: right;\">\n",
       "      <th></th>\n",
       "      <th>open</th>\n",
       "      <th>high</th>\n",
       "      <th>low</th>\n",
       "      <th>close</th>\n",
       "    </tr>\n",
       "  </thead>\n",
       "  <tbody>\n",
       "    <tr>\n",
       "      <th>2000-01-01 00:00:00</th>\n",
       "      <td>1.922942</td>\n",
       "      <td>1.922942</td>\n",
       "      <td>-0.861226</td>\n",
       "      <td>-0.861226</td>\n",
       "    </tr>\n",
       "    <tr>\n",
       "      <th>2000-01-01 00:05:00</th>\n",
       "      <td>1.910065</td>\n",
       "      <td>1.910065</td>\n",
       "      <td>-0.268003</td>\n",
       "      <td>-0.155010</td>\n",
       "    </tr>\n",
       "    <tr>\n",
       "      <th>2000-01-01 00:10:00</th>\n",
       "      <td>0.614079</td>\n",
       "      <td>0.922207</td>\n",
       "      <td>-1.099401</td>\n",
       "      <td>0.298238</td>\n",
       "    </tr>\n",
       "    <tr>\n",
       "      <th>2000-01-01 00:15:00</th>\n",
       "      <td>1.326386</td>\n",
       "      <td>1.849264</td>\n",
       "      <td>-0.694568</td>\n",
       "      <td>1.849264</td>\n",
       "    </tr>\n",
       "    <tr>\n",
       "      <th>2000-01-01 00:20:00</th>\n",
       "      <td>0.672295</td>\n",
       "      <td>0.672295</td>\n",
       "      <td>-0.769916</td>\n",
       "      <td>-0.674333</td>\n",
       "    </tr>\n",
       "    <tr>\n",
       "      <th>2000-01-01 00:25:00</th>\n",
       "      <td>0.031831</td>\n",
       "      <td>0.676433</td>\n",
       "      <td>-0.635846</td>\n",
       "      <td>-0.208299</td>\n",
       "    </tr>\n",
       "    <tr>\n",
       "      <th>2000-01-01 00:30:00</th>\n",
       "      <td>0.396007</td>\n",
       "      <td>0.439392</td>\n",
       "      <td>-1.491258</td>\n",
       "      <td>0.166673</td>\n",
       "    </tr>\n",
       "    <tr>\n",
       "      <th>2000-01-01 00:35:00</th>\n",
       "      <td>0.635031</td>\n",
       "      <td>2.383145</td>\n",
       "      <td>-0.912822</td>\n",
       "      <td>1.117016</td>\n",
       "    </tr>\n",
       "    <tr>\n",
       "      <th>2000-01-01 00:40:00</th>\n",
       "      <td>-1.315907</td>\n",
       "      <td>1.713343</td>\n",
       "      <td>-1.315907</td>\n",
       "      <td>-0.744755</td>\n",
       "    </tr>\n",
       "    <tr>\n",
       "      <th>2000-01-01 00:45:00</th>\n",
       "      <td>-0.826439</td>\n",
       "      <td>1.126636</td>\n",
       "      <td>-1.079932</td>\n",
       "      <td>-1.079932</td>\n",
       "    </tr>\n",
       "    <tr>\n",
       "      <th>2000-01-01 00:50:00</th>\n",
       "      <td>-1.147469</td>\n",
       "      <td>1.929532</td>\n",
       "      <td>-1.147469</td>\n",
       "      <td>0.949421</td>\n",
       "    </tr>\n",
       "    <tr>\n",
       "      <th>2000-01-01 00:55:00</th>\n",
       "      <td>0.087551</td>\n",
       "      <td>0.844363</td>\n",
       "      <td>-1.544771</td>\n",
       "      <td>-1.544771</td>\n",
       "    </tr>\n",
       "  </tbody>\n",
       "</table>\n",
       "</div>"
      ],
      "text/plain": [
       "                         open      high       low     close\n",
       "2000-01-01 00:00:00  1.922942  1.922942 -0.861226 -0.861226\n",
       "2000-01-01 00:05:00  1.910065  1.910065 -0.268003 -0.155010\n",
       "2000-01-01 00:10:00  0.614079  0.922207 -1.099401  0.298238\n",
       "2000-01-01 00:15:00  1.326386  1.849264 -0.694568  1.849264\n",
       "2000-01-01 00:20:00  0.672295  0.672295 -0.769916 -0.674333\n",
       "2000-01-01 00:25:00  0.031831  0.676433 -0.635846 -0.208299\n",
       "2000-01-01 00:30:00  0.396007  0.439392 -1.491258  0.166673\n",
       "2000-01-01 00:35:00  0.635031  2.383145 -0.912822  1.117016\n",
       "2000-01-01 00:40:00 -1.315907  1.713343 -1.315907 -0.744755\n",
       "2000-01-01 00:45:00 -0.826439  1.126636 -1.079932 -1.079932\n",
       "2000-01-01 00:50:00 -1.147469  1.929532 -1.147469  0.949421\n",
       "2000-01-01 00:55:00  0.087551  0.844363 -1.544771 -1.544771"
      ]
     },
     "execution_count": 28,
     "metadata": {},
     "output_type": "execute_result"
    }
   ],
   "source": [
    "ts.resample('5min').ohlc()"
   ]
  },
  {
   "cell_type": "code",
   "execution_count": 29,
   "metadata": {
    "collapsed": false
   },
   "outputs": [
    {
     "data": {
      "text/plain": [
       "2000-01-01 00:00:00    1.922942\n",
       "2000-01-01 00:00:30    1.922942\n",
       "2000-01-01 00:01:00    1.480515\n",
       "2000-01-01 00:01:30    1.480515\n",
       "2000-01-01 00:02:00    1.867559\n",
       "2000-01-01 00:02:30    1.867559\n",
       "2000-01-01 00:03:00    0.906045\n",
       "2000-01-01 00:03:30    0.906045\n",
       "2000-01-01 00:04:00   -0.861226\n",
       "2000-01-01 00:04:30   -0.861226\n",
       "2000-01-01 00:05:00    1.910065\n",
       "2000-01-01 00:05:30    1.910065\n",
       "2000-01-01 00:06:00   -0.268003\n",
       "2000-01-01 00:06:30   -0.268003\n",
       "2000-01-01 00:07:00    0.802456\n",
       "2000-01-01 00:07:30    0.802456\n",
       "2000-01-01 00:08:00    0.947252\n",
       "2000-01-01 00:08:30    0.947252\n",
       "2000-01-01 00:09:00   -0.155010\n",
       "2000-01-01 00:09:30   -0.155010\n",
       "Freq: 30S, dtype: float64"
      ]
     },
     "execution_count": 29,
     "metadata": {},
     "output_type": "execute_result"
    }
   ],
   "source": [
    "ts.resample('30s').ffill().head(20)"
   ]
  },
  {
   "cell_type": "code",
   "execution_count": 30,
   "metadata": {
    "collapsed": false
   },
   "outputs": [
    {
     "data": {
      "text/plain": [
       "2000-01-01 00:00:00    1.922942\n",
       "2000-01-01 00:00:30    1.480515\n",
       "2000-01-01 00:01:00    1.480515\n",
       "2000-01-01 00:01:30    1.867559\n",
       "2000-01-01 00:02:00    1.867559\n",
       "2000-01-01 00:02:30    0.906045\n",
       "2000-01-01 00:03:00    0.906045\n",
       "2000-01-01 00:03:30   -0.861226\n",
       "2000-01-01 00:04:00   -0.861226\n",
       "2000-01-01 00:04:30    1.910065\n",
       "2000-01-01 00:05:00    1.910065\n",
       "2000-01-01 00:05:30   -0.268003\n",
       "2000-01-01 00:06:00   -0.268003\n",
       "2000-01-01 00:06:30    0.802456\n",
       "2000-01-01 00:07:00    0.802456\n",
       "2000-01-01 00:07:30    0.947252\n",
       "2000-01-01 00:08:00    0.947252\n",
       "2000-01-01 00:08:30   -0.155010\n",
       "2000-01-01 00:09:00   -0.155010\n",
       "2000-01-01 00:09:30    0.614079\n",
       "Freq: 30S, dtype: float64"
      ]
     },
     "execution_count": 30,
     "metadata": {},
     "output_type": "execute_result"
    }
   ],
   "source": [
    "ts.resample('30s').bfill().head(20)"
   ]
  },
  {
   "cell_type": "code",
   "execution_count": null,
   "metadata": {
    "collapsed": true
   },
   "outputs": [],
   "source": []
  }
 ],
 "metadata": {
  "kernelspec": {
   "display_name": "Python 3",
   "language": "python",
   "name": "python3"
  },
  "language_info": {
   "codemirror_mode": {
    "name": "ipython",
    "version": 3
   },
   "file_extension": ".py",
   "mimetype": "text/x-python",
   "name": "python",
   "nbconvert_exporter": "python",
   "pygments_lexer": "ipython3",
   "version": "3.6.0"
  }
 },
 "nbformat": 4,
 "nbformat_minor": 2
}
