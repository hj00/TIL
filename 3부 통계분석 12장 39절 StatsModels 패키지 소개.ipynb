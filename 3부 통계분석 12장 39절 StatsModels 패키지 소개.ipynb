{
 "cells": [
  {
   "cell_type": "markdown",
   "metadata": {},
   "source": [
    "### StatsModels 패키지 소개\n",
    "StatsModels는 통계 분석을 위한 Python 패키지\n",
    "\n",
    "http://www.statsmodels.org\n",
    "\n",
    "#### 1. 기초 통계 (Statistics)\n",
    "\n",
    "- 각종 검정(test) 기능\n",
    "- 커널 밀도 추정\n",
    "- Generalized Method of Moments\n",
    "- 회귀 분석 (Linear Regression)\n",
    "\n",
    "#### 2. 선형 모형 (Linear Model)\n",
    "- 일반화 선형 모형 (Generalized Linear Model)\n",
    "- 강인 선형 모형 (Robust Linear Model)\n",
    "- 선형 혼합 효과 모형 (Linear Mixed Effects Model)\n",
    "- ANOVA (Analysis of Variance)\n",
    "- Discrete Dependent Variable (Logistic Regression 포함)\n",
    "\n",
    "#### 3. 시계열 분석 (Time Series Analysis)\n",
    "- ARMA/ARIMA Process\n",
    "- Vector ARMA Process\n",
    "\n",
    "\n",
    "선형 회귀분석의 경우 R-style 모형 기술을 가능하게 하는 patsy 패키지를 포함\n",
    "https://patsy.readthedocs.org/en/latest/"
   ]
  },
  {
   "cell_type": "code",
   "execution_count": 16,
   "metadata": {
    "collapsed": false
   },
   "outputs": [],
   "source": [
    "import statsmodels.api as sm\n",
    "import statsmodels.formula.api as smf\n",
    "from IPython.core.interactiveshell import InteractiveShell\n",
    "InteractiveShell.ast_node_interactivity = 'all'\n",
    "import numpy as np\n",
    "import matplotlib.pyplot as plt"
   ]
  },
  {
   "cell_type": "code",
   "execution_count": 4,
   "metadata": {
    "collapsed": false
   },
   "outputs": [
    {
     "data": {
      "text/html": [
       "<div>\n",
       "<style>\n",
       "    .dataframe thead tr:only-child th {\n",
       "        text-align: right;\n",
       "    }\n",
       "\n",
       "    .dataframe thead th {\n",
       "        text-align: left;\n",
       "    }\n",
       "\n",
       "    .dataframe tbody tr th {\n",
       "        vertical-align: top;\n",
       "    }\n",
       "</style>\n",
       "<table border=\"1\" class=\"dataframe\">\n",
       "  <thead>\n",
       "    <tr style=\"text-align: right;\">\n",
       "      <th></th>\n",
       "      <th>dept</th>\n",
       "      <th>Region</th>\n",
       "      <th>Department</th>\n",
       "      <th>Crime_pers</th>\n",
       "      <th>Crime_prop</th>\n",
       "      <th>Literacy</th>\n",
       "      <th>Donations</th>\n",
       "      <th>Infants</th>\n",
       "      <th>Suicides</th>\n",
       "      <th>MainCity</th>\n",
       "      <th>...</th>\n",
       "      <th>Crime_parents</th>\n",
       "      <th>Infanticide</th>\n",
       "      <th>Donation_clergy</th>\n",
       "      <th>Lottery</th>\n",
       "      <th>Desertion</th>\n",
       "      <th>Instruction</th>\n",
       "      <th>Prostitutes</th>\n",
       "      <th>Distance</th>\n",
       "      <th>Area</th>\n",
       "      <th>Pop1831</th>\n",
       "    </tr>\n",
       "  </thead>\n",
       "  <tbody>\n",
       "    <tr>\n",
       "      <th>81</th>\n",
       "      <td>86</td>\n",
       "      <td>W</td>\n",
       "      <td>Vienne</td>\n",
       "      <td>15010</td>\n",
       "      <td>4710</td>\n",
       "      <td>25</td>\n",
       "      <td>8922</td>\n",
       "      <td>35224</td>\n",
       "      <td>21851</td>\n",
       "      <td>2:Med</td>\n",
       "      <td>...</td>\n",
       "      <td>20</td>\n",
       "      <td>1</td>\n",
       "      <td>44</td>\n",
       "      <td>40</td>\n",
       "      <td>38</td>\n",
       "      <td>65</td>\n",
       "      <td>18</td>\n",
       "      <td>170.523</td>\n",
       "      <td>6990</td>\n",
       "      <td>282.73</td>\n",
       "    </tr>\n",
       "    <tr>\n",
       "      <th>82</th>\n",
       "      <td>87</td>\n",
       "      <td>C</td>\n",
       "      <td>Haute-Vienne</td>\n",
       "      <td>16256</td>\n",
       "      <td>6402</td>\n",
       "      <td>13</td>\n",
       "      <td>13817</td>\n",
       "      <td>19940</td>\n",
       "      <td>33497</td>\n",
       "      <td>2:Med</td>\n",
       "      <td>...</td>\n",
       "      <td>68</td>\n",
       "      <td>6</td>\n",
       "      <td>78</td>\n",
       "      <td>55</td>\n",
       "      <td>11</td>\n",
       "      <td>84</td>\n",
       "      <td>7</td>\n",
       "      <td>198.874</td>\n",
       "      <td>5520</td>\n",
       "      <td>285.13</td>\n",
       "    </tr>\n",
       "    <tr>\n",
       "      <th>83</th>\n",
       "      <td>88</td>\n",
       "      <td>E</td>\n",
       "      <td>Vosges</td>\n",
       "      <td>18835</td>\n",
       "      <td>9044</td>\n",
       "      <td>62</td>\n",
       "      <td>4040</td>\n",
       "      <td>14978</td>\n",
       "      <td>33029</td>\n",
       "      <td>2:Med</td>\n",
       "      <td>...</td>\n",
       "      <td>58</td>\n",
       "      <td>34</td>\n",
       "      <td>5</td>\n",
       "      <td>14</td>\n",
       "      <td>85</td>\n",
       "      <td>11</td>\n",
       "      <td>43</td>\n",
       "      <td>174.477</td>\n",
       "      <td>5874</td>\n",
       "      <td>397.99</td>\n",
       "    </tr>\n",
       "    <tr>\n",
       "      <th>84</th>\n",
       "      <td>89</td>\n",
       "      <td>C</td>\n",
       "      <td>Yonne</td>\n",
       "      <td>18006</td>\n",
       "      <td>6516</td>\n",
       "      <td>47</td>\n",
       "      <td>4276</td>\n",
       "      <td>16616</td>\n",
       "      <td>12789</td>\n",
       "      <td>2:Med</td>\n",
       "      <td>...</td>\n",
       "      <td>32</td>\n",
       "      <td>22</td>\n",
       "      <td>35</td>\n",
       "      <td>51</td>\n",
       "      <td>66</td>\n",
       "      <td>27</td>\n",
       "      <td>272</td>\n",
       "      <td>81.797</td>\n",
       "      <td>7427</td>\n",
       "      <td>352.49</td>\n",
       "    </tr>\n",
       "    <tr>\n",
       "      <th>85</th>\n",
       "      <td>200</td>\n",
       "      <td>NaN</td>\n",
       "      <td>Corse</td>\n",
       "      <td>2199</td>\n",
       "      <td>4589</td>\n",
       "      <td>49</td>\n",
       "      <td>37015</td>\n",
       "      <td>24743</td>\n",
       "      <td>37016</td>\n",
       "      <td>2:Med</td>\n",
       "      <td>...</td>\n",
       "      <td>81</td>\n",
       "      <td>2</td>\n",
       "      <td>84</td>\n",
       "      <td>83</td>\n",
       "      <td>9</td>\n",
       "      <td>25</td>\n",
       "      <td>1</td>\n",
       "      <td>539.213</td>\n",
       "      <td>8680</td>\n",
       "      <td>195.41</td>\n",
       "    </tr>\n",
       "  </tbody>\n",
       "</table>\n",
       "<p>5 rows × 23 columns</p>\n",
       "</div>"
      ],
      "text/plain": [
       "    dept Region    Department  Crime_pers  Crime_prop  Literacy  Donations  \\\n",
       "81    86      W        Vienne       15010        4710        25       8922   \n",
       "82    87      C  Haute-Vienne       16256        6402        13      13817   \n",
       "83    88      E        Vosges       18835        9044        62       4040   \n",
       "84    89      C         Yonne       18006        6516        47       4276   \n",
       "85   200    NaN         Corse        2199        4589        49      37015   \n",
       "\n",
       "    Infants  Suicides MainCity   ...     Crime_parents  Infanticide  \\\n",
       "81    35224     21851    2:Med   ...                20            1   \n",
       "82    19940     33497    2:Med   ...                68            6   \n",
       "83    14978     33029    2:Med   ...                58           34   \n",
       "84    16616     12789    2:Med   ...                32           22   \n",
       "85    24743     37016    2:Med   ...                81            2   \n",
       "\n",
       "    Donation_clergy  Lottery  Desertion  Instruction  Prostitutes  Distance  \\\n",
       "81               44       40         38           65           18   170.523   \n",
       "82               78       55         11           84            7   198.874   \n",
       "83                5       14         85           11           43   174.477   \n",
       "84               35       51         66           27          272    81.797   \n",
       "85               84       83          9           25            1   539.213   \n",
       "\n",
       "    Area  Pop1831  \n",
       "81  6990   282.73  \n",
       "82  5520   285.13  \n",
       "83  5874   397.99  \n",
       "84  7427   352.49  \n",
       "85  8680   195.41  \n",
       "\n",
       "[5 rows x 23 columns]"
      ]
     },
     "execution_count": 4,
     "metadata": {},
     "output_type": "execute_result"
    }
   ],
   "source": [
    "dat = sm.datasets.get_rdataset(\"Guerry\", \"HistData\").data\n",
    "dat.tail()"
   ]
  },
  {
   "cell_type": "markdown",
   "metadata": {},
   "source": [
    "### 회귀분석"
   ]
  },
  {
   "cell_type": "code",
   "execution_count": 8,
   "metadata": {
    "collapsed": false
   },
   "outputs": [
    {
     "name": "stdout",
     "output_type": "stream",
     "text": [
      "                            OLS Regression Results                            \n",
      "==============================================================================\n",
      "Dep. Variable:                Lottery   R-squared:                       0.348\n",
      "Model:                            OLS   Adj. R-squared:                  0.333\n",
      "Method:                 Least Squares   F-statistic:                     22.20\n",
      "Date:                Mon, 25 Sep 2017   Prob (F-statistic):           1.90e-08\n",
      "Time:                        10:40:39   Log-Likelihood:                -379.82\n",
      "No. Observations:                  86   AIC:                             765.6\n",
      "Df Residuals:                      83   BIC:                             773.0\n",
      "Df Model:                           2                                         \n",
      "Covariance Type:            nonrobust                                         \n",
      "===================================================================================\n",
      "                      coef    std err          t      P>|t|      [0.025      0.975]\n",
      "-----------------------------------------------------------------------------------\n",
      "Intercept         246.4341     35.233      6.995      0.000     176.358     316.510\n",
      "Literacy           -0.4889      0.128     -3.832      0.000      -0.743      -0.235\n",
      "np.log(Pop1831)   -31.3114      5.977     -5.239      0.000     -43.199     -19.424\n",
      "==============================================================================\n",
      "Omnibus:                        3.713   Durbin-Watson:                   2.019\n",
      "Prob(Omnibus):                  0.156   Jarque-Bera (JB):                3.394\n",
      "Skew:                          -0.487   Prob(JB):                        0.183\n",
      "Kurtosis:                       3.003   Cond. No.                         702.\n",
      "==============================================================================\n",
      "\n",
      "Warnings:\n",
      "[1] Standard Errors assume that the covariance matrix of the errors is correctly specified.\n"
     ]
    }
   ],
   "source": [
    "results = smf.ols('Lottery ~ Literacy + np.log(Pop1831)', data=dat).fit()\n",
    "print(results.summary())"
   ]
  },
  {
   "cell_type": "markdown",
   "metadata": {},
   "source": [
    "#### R에서 제공하던 명령어 + Rdatasets 이라는 프로젝트 -> R에서 사용하던 1000개 이상의 표준 데이터셋 동일하게 제공\n",
    "\n",
    "> 데이터셋의 목록 : https://github.com/vincentarelbundock/Rdatasets\n",
    "\n",
    "> http://vincentarelbundock.github.io/Rdatasets/datasets.html\n",
    "이 목록에 있는 데이터를 가져오려면 우선 \"Package\"이름과 \"Item\"을 알아낸 후 다음에 설명하는 get_rdataset 명령을 이용한다."
   ]
  },
  {
   "cell_type": "markdown",
   "metadata": {},
   "source": [
    "### get_rdataset 함수\n",
    "#### StatsModels의 datasets 서브패키지에 있는 get_rdataset 함수 : 표준 데이터셋을 가져올 수 있다.\n",
    "> get_rdataset(item, [package=\"datasets\"])\n",
    "\n",
    ">> - data : 데이터를 담고 있는 데이터 프레임\n",
    ">> - __doc__ : 데이터에 대한 설명 문자열. 예제 코드가 R로 되어있어 파이썬에서 바로 사용 불가능"
   ]
  },
  {
   "cell_type": "markdown",
   "metadata": {},
   "source": [
    "### 샘플데이터의 예1: 타이타닉 생존자"
   ]
  },
  {
   "cell_type": "code",
   "execution_count": 9,
   "metadata": {
    "collapsed": true
   },
   "outputs": [],
   "source": [
    "data = sm.datasets.get_rdataset(\"Titanic\", package=\"datasets\")"
   ]
  },
  {
   "cell_type": "code",
   "execution_count": 10,
   "metadata": {
    "collapsed": false
   },
   "outputs": [
    {
     "data": {
      "text/html": [
       "<div>\n",
       "<style>\n",
       "    .dataframe thead tr:only-child th {\n",
       "        text-align: right;\n",
       "    }\n",
       "\n",
       "    .dataframe thead th {\n",
       "        text-align: left;\n",
       "    }\n",
       "\n",
       "    .dataframe tbody tr th {\n",
       "        vertical-align: top;\n",
       "    }\n",
       "</style>\n",
       "<table border=\"1\" class=\"dataframe\">\n",
       "  <thead>\n",
       "    <tr style=\"text-align: right;\">\n",
       "      <th></th>\n",
       "      <th>Name</th>\n",
       "      <th>PClass</th>\n",
       "      <th>Age</th>\n",
       "      <th>Sex</th>\n",
       "      <th>Survived</th>\n",
       "      <th>SexCode</th>\n",
       "    </tr>\n",
       "  </thead>\n",
       "  <tbody>\n",
       "    <tr>\n",
       "      <th>1308</th>\n",
       "      <td>Zakarian, Mr Artun</td>\n",
       "      <td>3rd</td>\n",
       "      <td>27.0</td>\n",
       "      <td>male</td>\n",
       "      <td>0</td>\n",
       "      <td>0</td>\n",
       "    </tr>\n",
       "    <tr>\n",
       "      <th>1309</th>\n",
       "      <td>Zakarian, Mr Maprieder</td>\n",
       "      <td>3rd</td>\n",
       "      <td>26.0</td>\n",
       "      <td>male</td>\n",
       "      <td>0</td>\n",
       "      <td>0</td>\n",
       "    </tr>\n",
       "    <tr>\n",
       "      <th>1310</th>\n",
       "      <td>Zenni, Mr Philip</td>\n",
       "      <td>3rd</td>\n",
       "      <td>22.0</td>\n",
       "      <td>male</td>\n",
       "      <td>0</td>\n",
       "      <td>0</td>\n",
       "    </tr>\n",
       "    <tr>\n",
       "      <th>1311</th>\n",
       "      <td>Lievens, Mr Rene</td>\n",
       "      <td>3rd</td>\n",
       "      <td>24.0</td>\n",
       "      <td>male</td>\n",
       "      <td>0</td>\n",
       "      <td>0</td>\n",
       "    </tr>\n",
       "    <tr>\n",
       "      <th>1312</th>\n",
       "      <td>Zimmerman, Leo</td>\n",
       "      <td>3rd</td>\n",
       "      <td>29.0</td>\n",
       "      <td>male</td>\n",
       "      <td>0</td>\n",
       "      <td>0</td>\n",
       "    </tr>\n",
       "  </tbody>\n",
       "</table>\n",
       "</div>"
      ],
      "text/plain": [
       "                        Name PClass   Age   Sex  Survived  SexCode\n",
       "1308      Zakarian, Mr Artun    3rd  27.0  male         0        0\n",
       "1309  Zakarian, Mr Maprieder    3rd  26.0  male         0        0\n",
       "1310        Zenni, Mr Philip    3rd  22.0  male         0        0\n",
       "1311        Lievens, Mr Rene    3rd  24.0  male         0        0\n",
       "1312          Zimmerman, Leo    3rd  29.0  male         0        0"
      ]
     },
     "execution_count": 10,
     "metadata": {},
     "output_type": "execute_result"
    }
   ],
   "source": [
    "df = data.data\n",
    "df.tail()"
   ]
  },
  {
   "cell_type": "code",
   "execution_count": 11,
   "metadata": {
    "collapsed": false
   },
   "outputs": [
    {
     "name": "stdout",
     "output_type": "stream",
     "text": [
      "+-----------+-------------------+\n",
      "| Titanic   | R Documentation   |\n",
      "+-----------+-------------------+\n",
      "\n",
      "Survival of passengers on the Titanic\n",
      "-------------------------------------\n",
      "\n",
      "Description\n",
      "~~~~~~~~~~~\n",
      "\n",
      "This data set provides information on the fate of passengers on the\n",
      "fatal maiden voyage of the ocean liner ‘Titanic’, summarized according\n",
      "to economic status (class), sex, age and survival.\n",
      "\n",
      "Usage\n",
      "~~~~~\n",
      "\n",
      "::\n",
      "\n",
      "    Titanic\n",
      "\n",
      "Format\n",
      "~~~~~~\n",
      "\n",
      "A 4-dimensional array resulting from cross-tabulating 2201 observations\n",
      "on 4 variables. The variables and their levels are as follows:\n",
      "\n",
      "+------+------------+-----------------------+\n",
      "| No   | Name       | Levels                |\n",
      "+------+------------+-----------------------+\n",
      "| 1    | Class      | 1st, 2nd, 3rd, Crew   |\n",
      "+------+------------+-----------------------+\n",
      "| 2    | Sex        | Male, Female          |\n",
      "+------+------------+-----------------------+\n",
      "| 3    | Age        | Child, Adult          |\n",
      "+------+------------+-----------------------+\n",
      "| 4    | Survived   | No, Yes               |\n",
      "+------+------------+-----------------------+\n",
      "\n",
      "Details\n",
      "~~~~~~~\n",
      "\n",
      "The sinking of the Titanic is a famous event, and new books are still\n",
      "being published about it. Many well-known facts—from the proportions of\n",
      "first-class passengers to the ‘women and children first’ policy, and the\n",
      "fact that that policy was not entirely successful in saving the women\n",
      "and children in the third class—are reflected in the survival rates for\n",
      "various classes of passenger.\n",
      "\n",
      "These data were originally collected by the British Board of Trade in\n",
      "their investigation of the sinking. Note that there is not complete\n",
      "agreement among primary sources as to the exact numbers on board,\n",
      "rescued, or lost.\n",
      "\n",
      "Due in particular to the very successful film ‘Titanic’, the last years\n",
      "saw a rise in public interest in the Titanic. Very detailed data about\n",
      "the passengers is now available on the Internet, at sites such as\n",
      "*Encyclopedia Titanica* (http://www.rmplc.co.uk/eduweb/sites/phind).\n",
      "\n",
      "Source\n",
      "~~~~~~\n",
      "\n",
      "Dawson, Robert J. MacG. (1995), The ‘Unusual Episode’ Data Revisited.\n",
      "*Journal of Statistics Education*, **3**.\n",
      "https://www.amstat.org/publications/jse/v3n3/datasets.dawson.html\n",
      "\n",
      "The source provides a data set recording class, sex, age, and survival\n",
      "status for each person on board of the Titanic, and is based on data\n",
      "originally collected by the British Board of Trade and reprinted in:\n",
      "\n",
      "British Board of Trade (1990), *Report on the Loss of the ‘Titanic’\n",
      "(S.S.)*. British Board of Trade Inquiry Report (reprint). Gloucester,\n",
      "UK: Allan Sutton Publishing.\n",
      "\n",
      "Examples\n",
      "~~~~~~~~\n",
      "\n",
      "::\n",
      "\n",
      "    require(graphics)\n",
      "    mosaicplot(Titanic, main = \"Survival on the Titanic\")\n",
      "    ## Higher survival rates in children?\n",
      "    apply(Titanic, c(3, 4), sum)\n",
      "    ## Higher survival rates in females?\n",
      "    apply(Titanic, c(2, 4), sum)\n",
      "    ## Use loglm() in package 'MASS' for further analysis ...\n",
      "\n"
     ]
    }
   ],
   "source": [
    "print(data.__doc__)"
   ]
  },
  {
   "cell_type": "markdown",
   "metadata": {},
   "source": [
    "### 샘플데이터의 예2: 미국 강수량"
   ]
  },
  {
   "cell_type": "code",
   "execution_count": 23,
   "metadata": {
    "collapsed": false
   },
   "outputs": [
    {
     "name": "stdout",
     "output_type": "stream",
     "text": [
      "+----------+-------------------+\n",
      "| precip   | R Documentation   |\n",
      "+----------+-------------------+\n",
      "\n",
      "Annual Precipitation in US Cities\n",
      "---------------------------------\n",
      "\n",
      "Description\n",
      "~~~~~~~~~~~\n",
      "\n",
      "The average amount of precipitation (rainfall) in inches for each of 70\n",
      "United States (and Puerto Rico) cities.\n",
      "\n",
      "Usage\n",
      "~~~~~\n",
      "\n",
      "::\n",
      "\n",
      "    precip\n",
      "\n",
      "Format\n",
      "~~~~~~\n",
      "\n",
      "A named vector of length 70.\n",
      "\n",
      "Note\n",
      "~~~~\n",
      "\n",
      "The dataset version up to Nov.16, 2016 had a typo in ``\"Cincinnati\"``'s\n",
      "name. The examples show how to recreate that version.\n",
      "\n",
      "Source\n",
      "~~~~~~\n",
      "\n",
      "Statistical Abstracts of the United States, 1975.\n",
      "\n",
      "References\n",
      "~~~~~~~~~~\n",
      "\n",
      "McNeil, D. R. (1977) *Interactive Data Analysis*. New York: Wiley.\n",
      "\n",
      "Examples\n",
      "~~~~~~~~\n",
      "\n",
      "::\n",
      "\n",
      "    require(graphics)\n",
      "    dotchart(precip[order(precip)], main = \"precip data\")\n",
      "    title(sub = \"Average annual precipitation (in.)\")\n",
      "\n",
      "    ## Old (\"wrong\") version of dataset (just name change):\n",
      "    precip.O <- local({\n",
      "       p <- precip; names(p)[names(p) == \"Cincinnati\"] <- \"Cincinati\" ; p })\n",
      "    stopifnot(all(precip == precip.O),\n",
      "          match(\"Cincinnati\", names(precip)) == 46,\n",
      "          identical(names(precip)[-46], names(precip.O)[-46]))\n",
      "\n"
     ]
    }
   ],
   "source": [
    "data = sm.datasets.get_rdataset(\"precip\")\n",
    "print(data.__doc__)"
   ]
  },
  {
   "cell_type": "code",
   "execution_count": 24,
   "metadata": {
    "collapsed": false
   },
   "outputs": [
    {
     "data": {
      "text/html": [
       "<div>\n",
       "<style>\n",
       "    .dataframe thead tr:only-child th {\n",
       "        text-align: right;\n",
       "    }\n",
       "\n",
       "    .dataframe thead th {\n",
       "        text-align: left;\n",
       "    }\n",
       "\n",
       "    .dataframe tbody tr th {\n",
       "        vertical-align: top;\n",
       "    }\n",
       "</style>\n",
       "<table border=\"1\" class=\"dataframe\">\n",
       "  <thead>\n",
       "    <tr style=\"text-align: right;\">\n",
       "      <th></th>\n",
       "      <th>x</th>\n",
       "    </tr>\n",
       "  </thead>\n",
       "  <tbody>\n",
       "    <tr>\n",
       "      <th>65</th>\n",
       "      <td>17.4</td>\n",
       "    </tr>\n",
       "    <tr>\n",
       "      <th>66</th>\n",
       "      <td>40.8</td>\n",
       "    </tr>\n",
       "    <tr>\n",
       "      <th>67</th>\n",
       "      <td>29.1</td>\n",
       "    </tr>\n",
       "    <tr>\n",
       "      <th>68</th>\n",
       "      <td>14.6</td>\n",
       "    </tr>\n",
       "    <tr>\n",
       "      <th>69</th>\n",
       "      <td>59.2</td>\n",
       "    </tr>\n",
       "  </tbody>\n",
       "</table>\n",
       "</div>"
      ],
      "text/plain": [
       "       x\n",
       "65  17.4\n",
       "66  40.8\n",
       "67  29.1\n",
       "68  14.6\n",
       "69  59.2"
      ]
     },
     "execution_count": 24,
     "metadata": {},
     "output_type": "execute_result"
    }
   ],
   "source": [
    "df = data.data\n",
    "df.tail()"
   ]
  },
  {
   "cell_type": "code",
   "execution_count": 25,
   "metadata": {
    "collapsed": false
   },
   "outputs": [
    {
     "data": {
      "text/plain": [
       "<matplotlib.axes._subplots.AxesSubplot at 0xdc19898>"
      ]
     },
     "execution_count": 25,
     "metadata": {},
     "output_type": "execute_result"
    },
    {
     "data": {
      "image/png": "[encoded data removed]",
      "text/plain": [
       "<matplotlib.figure.Figure at 0xdc19a90>"
      ]
     },
     "metadata": {},
     "output_type": "display_data"
    }
   ],
   "source": [
    "df.plot()\n",
    "plt.grid(True)\n",
    "plt.show()"
   ]
  },
  {
   "cell_type": "markdown",
   "metadata": {},
   "source": [
    "### 샘플데이터의 예 3: 황체형성 호르몬 수치 시계열"
   ]
  },
  {
   "cell_type": "code",
   "execution_count": 26,
   "metadata": {
    "collapsed": false
   },
   "outputs": [
    {
     "name": "stdout",
     "output_type": "stream",
     "text": [
      "+------+-------------------+\n",
      "| lh   | R Documentation   |\n",
      "+------+-------------------+\n",
      "\n",
      "Luteinizing Hormone in Blood Samples\n",
      "------------------------------------\n",
      "\n",
      "Description\n",
      "~~~~~~~~~~~\n",
      "\n",
      "A regular time series giving the luteinizing hormone in blood samples at\n",
      "10 mins intervals from a human female, 48 samples.\n",
      "\n",
      "Usage\n",
      "~~~~~\n",
      "\n",
      "::\n",
      "\n",
      "    lh\n",
      "\n",
      "Source\n",
      "~~~~~~\n",
      "\n",
      "P.J. Diggle (1990) *Time Series: A Biostatistical Introduction.* Oxford,\n",
      "table A.1, series 3\n",
      "\n"
     ]
    },
    {
     "data": {
      "text/html": [
       "<div>\n",
       "<style>\n",
       "    .dataframe thead tr:only-child th {\n",
       "        text-align: right;\n",
       "    }\n",
       "\n",
       "    .dataframe thead th {\n",
       "        text-align: left;\n",
       "    }\n",
       "\n",
       "    .dataframe tbody tr th {\n",
       "        vertical-align: top;\n",
       "    }\n",
       "</style>\n",
       "<table border=\"1\" class=\"dataframe\">\n",
       "  <thead>\n",
       "    <tr style=\"text-align: right;\">\n",
       "      <th></th>\n",
       "      <th>time</th>\n",
       "      <th>lh</th>\n",
       "    </tr>\n",
       "  </thead>\n",
       "  <tbody>\n",
       "    <tr>\n",
       "      <th>43</th>\n",
       "      <td>44</td>\n",
       "      <td>2.6</td>\n",
       "    </tr>\n",
       "    <tr>\n",
       "      <th>44</th>\n",
       "      <td>45</td>\n",
       "      <td>2.1</td>\n",
       "    </tr>\n",
       "    <tr>\n",
       "      <th>45</th>\n",
       "      <td>46</td>\n",
       "      <td>3.4</td>\n",
       "    </tr>\n",
       "    <tr>\n",
       "      <th>46</th>\n",
       "      <td>47</td>\n",
       "      <td>3.0</td>\n",
       "    </tr>\n",
       "    <tr>\n",
       "      <th>47</th>\n",
       "      <td>48</td>\n",
       "      <td>2.9</td>\n",
       "    </tr>\n",
       "  </tbody>\n",
       "</table>\n",
       "</div>"
      ],
      "text/plain": [
       "    time   lh\n",
       "43    44  2.6\n",
       "44    45  2.1\n",
       "45    46  3.4\n",
       "46    47  3.0\n",
       "47    48  2.9"
      ]
     },
     "execution_count": 26,
     "metadata": {},
     "output_type": "execute_result"
    }
   ],
   "source": [
    "data = sm.datasets.get_rdataset(\"lh\")\n",
    "print(data.__doc__)\n",
    "df = data.data\n",
    "df.tail()"
   ]
  },
  {
   "cell_type": "code",
   "execution_count": 27,
   "metadata": {
    "collapsed": false
   },
   "outputs": [
    {
     "data": {
      "text/plain": [
       "<matplotlib.axes._subplots.AxesSubplot at 0xdec37b8>"
      ]
     },
     "execution_count": 27,
     "metadata": {},
     "output_type": "execute_result"
    },
    {
     "data": {
      "image/png": "[encoded data removed]",
      "text/plain": [
       "<matplotlib.figure.Figure at 0xdc74d68>"
      ]
     },
     "metadata": {},
     "output_type": "display_data"
    }
   ],
   "source": [
    "df.plot(x=\"time\", y=\"lh\")\n",
    "plt.grid(True)\n",
    "plt.show()"
   ]
  },
  {
   "cell_type": "markdown",
   "metadata": {},
   "source": [
    "### 샘플데이터의 예 4: 호흡기질환 사망자수"
   ]
  },
  {
   "cell_type": "code",
   "execution_count": 29,
   "metadata": {
    "collapsed": false
   },
   "outputs": [
    {
     "name": "stdout",
     "output_type": "stream",
     "text": [
      "+----------+-------------------+\n",
      "| deaths   | R Documentation   |\n",
      "+----------+-------------------+\n",
      "\n",
      "Monthly Deaths from Lung Diseases in the UK\n",
      "-------------------------------------------\n",
      "\n",
      "Description\n",
      "~~~~~~~~~~~\n",
      "\n",
      "A time series giving the monthly deaths from bronchitis, emphysema and\n",
      "asthma in the UK, 1974-1979, both sexes (``deaths``),\n",
      "\n",
      "Usage\n",
      "~~~~~\n",
      "\n",
      "::\n",
      "\n",
      "    deaths\n",
      "\n",
      "Source\n",
      "~~~~~~\n",
      "\n",
      "P. J. Diggle (1990) *Time Series: A Biostatistical Introduction.*\n",
      "Oxford, table A.3\n",
      "\n",
      "References\n",
      "~~~~~~~~~~\n",
      "\n",
      "Venables, W. N. and Ripley, B. D. (2002) *Modern Applied Statistics with\n",
      "S.* Fourth edition. Springer.\n",
      "\n",
      "See Also\n",
      "~~~~~~~~\n",
      "\n",
      "This the same as dataset ``ldeaths`` in **R**'s datasets package.\n",
      "\n"
     ]
    },
    {
     "data": {
      "text/html": [
       "<div>\n",
       "<style>\n",
       "    .dataframe thead tr:only-child th {\n",
       "        text-align: right;\n",
       "    }\n",
       "\n",
       "    .dataframe thead th {\n",
       "        text-align: left;\n",
       "    }\n",
       "\n",
       "    .dataframe tbody tr th {\n",
       "        vertical-align: top;\n",
       "    }\n",
       "</style>\n",
       "<table border=\"1\" class=\"dataframe\">\n",
       "  <thead>\n",
       "    <tr style=\"text-align: right;\">\n",
       "      <th></th>\n",
       "      <th>time</th>\n",
       "      <th>deaths</th>\n",
       "    </tr>\n",
       "  </thead>\n",
       "  <tbody>\n",
       "    <tr>\n",
       "      <th>67</th>\n",
       "      <td>1979.583333</td>\n",
       "      <td>1354</td>\n",
       "    </tr>\n",
       "    <tr>\n",
       "      <th>68</th>\n",
       "      <td>1979.666667</td>\n",
       "      <td>1333</td>\n",
       "    </tr>\n",
       "    <tr>\n",
       "      <th>69</th>\n",
       "      <td>1979.750000</td>\n",
       "      <td>1492</td>\n",
       "    </tr>\n",
       "    <tr>\n",
       "      <th>70</th>\n",
       "      <td>1979.833333</td>\n",
       "      <td>1781</td>\n",
       "    </tr>\n",
       "    <tr>\n",
       "      <th>71</th>\n",
       "      <td>1979.916667</td>\n",
       "      <td>1915</td>\n",
       "    </tr>\n",
       "  </tbody>\n",
       "</table>\n",
       "</div>"
      ],
      "text/plain": [
       "           time  deaths\n",
       "67  1979.583333    1354\n",
       "68  1979.666667    1333\n",
       "69  1979.750000    1492\n",
       "70  1979.833333    1781\n",
       "71  1979.916667    1915"
      ]
     },
     "execution_count": 29,
     "metadata": {},
     "output_type": "execute_result"
    }
   ],
   "source": [
    "data = sm.datasets.get_rdataset(\"deaths\", \"MASS\")\n",
    "print(data.__doc__)\n",
    "df = data.data\n",
    "df.tail()"
   ]
  },
  {
   "cell_type": "markdown",
   "metadata": {},
   "source": [
    "#### 이 시계열 데이터에서는 시간이 1년을 1.0으로, 1개월을 1/12로 하는 값(year-fraciton)으로 인코딩되어 있다. 이 값을 파이썬의 datatime 포맷으로 바꾸려면 다음과 같은 함수를 사용해야 한다."
   ]
  },
  {
   "cell_type": "code",
   "execution_count": 30,
   "metadata": {
    "collapsed": true
   },
   "outputs": [],
   "source": [
    "def yearfraction2datetime(yearfraction, startyear=0):\n",
    "    import datetime, dateutil\n",
    "    year = int(yearfraction) + startyear\n",
    "    month = int(round(12 * (yearfraction - year)))\n",
    "    delta = dateutil.relativedelta.relativedelta(months=month)\n",
    "    date = datetime.datetime(year, 1, 1) + delta\n",
    "    return date"
   ]
  },
  {
   "cell_type": "code",
   "execution_count": 31,
   "metadata": {
    "collapsed": false
   },
   "outputs": [
    {
     "data": {
      "text/html": [
       "<div>\n",
       "<style>\n",
       "    .dataframe thead tr:only-child th {\n",
       "        text-align: right;\n",
       "    }\n",
       "\n",
       "    .dataframe thead th {\n",
       "        text-align: left;\n",
       "    }\n",
       "\n",
       "    .dataframe tbody tr th {\n",
       "        vertical-align: top;\n",
       "    }\n",
       "</style>\n",
       "<table border=\"1\" class=\"dataframe\">\n",
       "  <thead>\n",
       "    <tr style=\"text-align: right;\">\n",
       "      <th></th>\n",
       "      <th>time</th>\n",
       "      <th>deaths</th>\n",
       "      <th>datetime</th>\n",
       "    </tr>\n",
       "  </thead>\n",
       "  <tbody>\n",
       "    <tr>\n",
       "      <th>67</th>\n",
       "      <td>1979.583333</td>\n",
       "      <td>1354</td>\n",
       "      <td>1979-08-01</td>\n",
       "    </tr>\n",
       "    <tr>\n",
       "      <th>68</th>\n",
       "      <td>1979.666667</td>\n",
       "      <td>1333</td>\n",
       "      <td>1979-09-01</td>\n",
       "    </tr>\n",
       "    <tr>\n",
       "      <th>69</th>\n",
       "      <td>1979.750000</td>\n",
       "      <td>1492</td>\n",
       "      <td>1979-10-01</td>\n",
       "    </tr>\n",
       "    <tr>\n",
       "      <th>70</th>\n",
       "      <td>1979.833333</td>\n",
       "      <td>1781</td>\n",
       "      <td>1979-11-01</td>\n",
       "    </tr>\n",
       "    <tr>\n",
       "      <th>71</th>\n",
       "      <td>1979.916667</td>\n",
       "      <td>1915</td>\n",
       "      <td>1979-12-01</td>\n",
       "    </tr>\n",
       "  </tbody>\n",
       "</table>\n",
       "</div>"
      ],
      "text/plain": [
       "           time  deaths   datetime\n",
       "67  1979.583333    1354 1979-08-01\n",
       "68  1979.666667    1333 1979-09-01\n",
       "69  1979.750000    1492 1979-10-01\n",
       "70  1979.833333    1781 1979-11-01\n",
       "71  1979.916667    1915 1979-12-01"
      ]
     },
     "execution_count": 31,
     "metadata": {},
     "output_type": "execute_result"
    }
   ],
   "source": [
    "df[\"datetime\"] = df.time.map(yearfraction2datetime)\n",
    "df.tail()"
   ]
  },
  {
   "cell_type": "code",
   "execution_count": 32,
   "metadata": {
    "collapsed": false
   },
   "outputs": [
    {
     "data": {
      "text/plain": [
       "<matplotlib.axes._subplots.AxesSubplot at 0xe100198>"
      ]
     },
     "execution_count": 32,
     "metadata": {},
     "output_type": "execute_result"
    },
    {
     "data": {
      "image/png": "[encoded data removed]",
      "text/plain": [
       "<matplotlib.figure.Figure at 0xe100e10>"
      ]
     },
     "metadata": {},
     "output_type": "display_data"
    }
   ],
   "source": [
    "df.plot(x=\"datetime\", y=\"deaths\")\n",
    "plt.grid(True)\n",
    "plt.show()"
   ]
  },
  {
   "cell_type": "markdown",
   "metadata": {},
   "source": [
    "### 샘플데이터의 예5: 항공 운송인원"
   ]
  },
  {
   "cell_type": "code",
   "execution_count": 33,
   "metadata": {
    "collapsed": false
   },
   "outputs": [
    {
     "name": "stdout",
     "output_type": "stream",
     "text": [
      "+-----------------+-------------------+\n",
      "| AirPassengers   | R Documentation   |\n",
      "+-----------------+-------------------+\n",
      "\n",
      "Monthly Airline Passenger Numbers 1949-1960\n",
      "-------------------------------------------\n",
      "\n",
      "Description\n",
      "~~~~~~~~~~~\n",
      "\n",
      "The classic Box & Jenkins airline data. Monthly totals of international\n",
      "airline passengers, 1949 to 1960.\n",
      "\n",
      "Usage\n",
      "~~~~~\n",
      "\n",
      "::\n",
      "\n",
      "    AirPassengers\n",
      "\n",
      "Format\n",
      "~~~~~~\n",
      "\n",
      "A monthly time series, in thousands.\n",
      "\n",
      "Source\n",
      "~~~~~~\n",
      "\n",
      "Box, G. E. P., Jenkins, G. M. and Reinsel, G. C. (1976) *Time Series\n",
      "Analysis, Forecasting and Control.* Third Edition. Holden-Day. Series G.\n",
      "\n",
      "Examples\n",
      "~~~~~~~~\n",
      "\n",
      "::\n",
      "\n",
      "    ## Not run: \n",
      "    ## These are quite slow and so not run by example(AirPassengers)\n",
      "\n",
      "    ## The classic 'airline model', by full ML\n",
      "    (fit <- arima(log10(AirPassengers), c(0, 1, 1),\n",
      "                  seasonal = list(order = c(0, 1, 1), period = 12)))\n",
      "    update(fit, method = \"CSS\")\n",
      "    update(fit, x = window(log10(AirPassengers), start = 1954))\n",
      "    pred <- predict(fit, n.ahead = 24)\n",
      "    tl <- pred$pred - 1.96 * pred$se\n",
      "    tu <- pred$pred + 1.96 * pred$se\n",
      "    ts.plot(AirPassengers, 10^tl, 10^tu, log = \"y\", lty = c(1, 2, 2))\n",
      "\n",
      "    ## full ML fit is the same if the series is reversed, CSS fit is not\n",
      "    ap0 <- rev(log10(AirPassengers))\n",
      "    attributes(ap0) <- attributes(AirPassengers)\n",
      "    arima(ap0, c(0, 1, 1), seasonal = list(order = c(0, 1, 1), period = 12))\n",
      "    arima(ap0, c(0, 1, 1), seasonal = list(order = c(0, 1, 1), period = 12),\n",
      "          method = \"CSS\")\n",
      "\n",
      "    ## Structural Time Series\n",
      "    ap <- log10(AirPassengers) - 2\n",
      "    (fit <- StructTS(ap, type = \"BSM\"))\n",
      "    par(mfrow = c(1, 2))\n",
      "    plot(cbind(ap, fitted(fit)), plot.type = \"single\")\n",
      "    plot(cbind(ap, tsSmooth(fit)), plot.type = \"single\")\n",
      "\n",
      "    ## End(Not run)\n",
      "\n"
     ]
    },
    {
     "data": {
      "text/html": [
       "<div>\n",
       "<style>\n",
       "    .dataframe thead tr:only-child th {\n",
       "        text-align: right;\n",
       "    }\n",
       "\n",
       "    .dataframe thead th {\n",
       "        text-align: left;\n",
       "    }\n",
       "\n",
       "    .dataframe tbody tr th {\n",
       "        vertical-align: top;\n",
       "    }\n",
       "</style>\n",
       "<table border=\"1\" class=\"dataframe\">\n",
       "  <thead>\n",
       "    <tr style=\"text-align: right;\">\n",
       "      <th></th>\n",
       "      <th>time</th>\n",
       "      <th>AirPassengers</th>\n",
       "    </tr>\n",
       "  </thead>\n",
       "  <tbody>\n",
       "    <tr>\n",
       "      <th>139</th>\n",
       "      <td>1960.583333</td>\n",
       "      <td>606</td>\n",
       "    </tr>\n",
       "    <tr>\n",
       "      <th>140</th>\n",
       "      <td>1960.666667</td>\n",
       "      <td>508</td>\n",
       "    </tr>\n",
       "    <tr>\n",
       "      <th>141</th>\n",
       "      <td>1960.750000</td>\n",
       "      <td>461</td>\n",
       "    </tr>\n",
       "    <tr>\n",
       "      <th>142</th>\n",
       "      <td>1960.833333</td>\n",
       "      <td>390</td>\n",
       "    </tr>\n",
       "    <tr>\n",
       "      <th>143</th>\n",
       "      <td>1960.916667</td>\n",
       "      <td>432</td>\n",
       "    </tr>\n",
       "  </tbody>\n",
       "</table>\n",
       "</div>"
      ],
      "text/plain": [
       "            time  AirPassengers\n",
       "139  1960.583333            606\n",
       "140  1960.666667            508\n",
       "141  1960.750000            461\n",
       "142  1960.833333            390\n",
       "143  1960.916667            432"
      ]
     },
     "execution_count": 33,
     "metadata": {},
     "output_type": "execute_result"
    }
   ],
   "source": [
    "data = sm.datasets.get_rdataset(\"AirPassengers\")\n",
    "print(data.__doc__)\n",
    "df = data.data\n",
    "df.tail()"
   ]
  },
  {
   "cell_type": "code",
   "execution_count": 34,
   "metadata": {
    "collapsed": false
   },
   "outputs": [
    {
     "data": {
      "text/html": [
       "<div>\n",
       "<style>\n",
       "    .dataframe thead tr:only-child th {\n",
       "        text-align: right;\n",
       "    }\n",
       "\n",
       "    .dataframe thead th {\n",
       "        text-align: left;\n",
       "    }\n",
       "\n",
       "    .dataframe tbody tr th {\n",
       "        vertical-align: top;\n",
       "    }\n",
       "</style>\n",
       "<table border=\"1\" class=\"dataframe\">\n",
       "  <thead>\n",
       "    <tr style=\"text-align: right;\">\n",
       "      <th></th>\n",
       "      <th>time</th>\n",
       "      <th>AirPassengers</th>\n",
       "      <th>datetime</th>\n",
       "    </tr>\n",
       "  </thead>\n",
       "  <tbody>\n",
       "    <tr>\n",
       "      <th>139</th>\n",
       "      <td>1960.583333</td>\n",
       "      <td>606</td>\n",
       "      <td>1960-08-01</td>\n",
       "    </tr>\n",
       "    <tr>\n",
       "      <th>140</th>\n",
       "      <td>1960.666667</td>\n",
       "      <td>508</td>\n",
       "      <td>1960-09-01</td>\n",
       "    </tr>\n",
       "    <tr>\n",
       "      <th>141</th>\n",
       "      <td>1960.750000</td>\n",
       "      <td>461</td>\n",
       "      <td>1960-10-01</td>\n",
       "    </tr>\n",
       "    <tr>\n",
       "      <th>142</th>\n",
       "      <td>1960.833333</td>\n",
       "      <td>390</td>\n",
       "      <td>1960-11-01</td>\n",
       "    </tr>\n",
       "    <tr>\n",
       "      <th>143</th>\n",
       "      <td>1960.916667</td>\n",
       "      <td>432</td>\n",
       "      <td>1960-12-01</td>\n",
       "    </tr>\n",
       "  </tbody>\n",
       "</table>\n",
       "</div>"
      ],
      "text/plain": [
       "            time  AirPassengers   datetime\n",
       "139  1960.583333            606 1960-08-01\n",
       "140  1960.666667            508 1960-09-01\n",
       "141  1960.750000            461 1960-10-01\n",
       "142  1960.833333            390 1960-11-01\n",
       "143  1960.916667            432 1960-12-01"
      ]
     },
     "execution_count": 34,
     "metadata": {},
     "output_type": "execute_result"
    }
   ],
   "source": [
    "df[\"datetime\"] = df.time.map(yearfraction2datetime)\n",
    "df.tail()"
   ]
  },
  {
   "cell_type": "code",
   "execution_count": 35,
   "metadata": {
    "collapsed": false
   },
   "outputs": [
    {
     "data": {
      "text/plain": [
       "<matplotlib.axes._subplots.AxesSubplot at 0xde0abe0>"
      ]
     },
     "execution_count": 35,
     "metadata": {},
     "output_type": "execute_result"
    },
    {
     "data": {
      "image/png": "[encoded data removed]",
      "text/plain": [
       "<matplotlib.figure.Figure at 0xde0a390>"
      ]
     },
     "metadata": {},
     "output_type": "display_data"
    }
   ],
   "source": [
    "df.plot(x = \"datetime\", y=\"AirPassengers\")\n",
    "plt.grid(True)\n",
    "plt.show()"
   ]
  },
  {
   "cell_type": "code",
   "execution_count": null,
   "metadata": {
    "collapsed": true
   },
   "outputs": [],
   "source": []
  }
 ],
 "metadata": {
  "kernelspec": {
   "display_name": "Python 3",
   "language": "python",
   "name": "python3"
  },
  "language_info": {
   "codemirror_mode": {
    "name": "ipython",
    "version": 3
   },
   "file_extension": ".py",
   "mimetype": "text/x-python",
   "name": "python",
   "nbconvert_exporter": "python",
   "pygments_lexer": "ipython3",
   "version": "3.6.0"
  }
 },
 "nbformat": 4,
 "nbformat_minor": 2
}
